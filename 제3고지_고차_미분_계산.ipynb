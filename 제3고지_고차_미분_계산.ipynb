{
  "nbformat": 4,
  "nbformat_minor": 0,
  "metadata": {
    "colab": {
      "provenance": [],
      "mount_file_id": "1jW-NIcmru-osH-EwH4h0WuxL2BQkGXOn",
      "authorship_tag": "ABX9TyORJXmIIjSh9HBGpkpd/i6n",
      "include_colab_link": true
    },
    "kernelspec": {
      "name": "python3",
      "display_name": "Python 3"
    },
    "language_info": {
      "name": "python"
    }
  },
  "cells": [
    {
      "cell_type": "markdown",
      "metadata": {
        "id": "view-in-github",
        "colab_type": "text"
      },
      "source": [
        "<a href=\"https://colab.research.google.com/github/sgr1118/deep-learning-from-scratch-3/blob/main/%EC%A0%9C3%EA%B3%A0%EC%A7%80_%EA%B3%A0%EC%B0%A8_%EB%AF%B8%EB%B6%84_%EA%B3%84%EC%82%B0.ipynb\" target=\"_parent\"><img src=\"https://colab.research.google.com/assets/colab-badge.svg\" alt=\"Open In Colab\"/></a>"
      ]
    },
    {
      "cell_type": "markdown",
      "source": [
        "# 목표\n",
        "- 고차 미분 수행하기\n",
        "\n",
        "## 고차 미분이란\n",
        "- 1 ~ n차 미분을 반복하는 작업이다. 현대적인 딥러닝 프레임워크들은 이 기능을 자동으로 계산한다."
      ],
      "metadata": {
        "id": "6FCfGf93tSIL"
      }
    },
    {
      "cell_type": "code",
      "execution_count": 2,
      "metadata": {
        "colab": {
          "base_uri": "https://localhost:8080/"
        },
        "id": "fzY-MhXNtNl7",
        "outputId": "66e798d7-3375-4908-9633-8ffbc60b4df3"
      },
      "outputs": [
        {
          "output_type": "stream",
          "name": "stdout",
          "text": [
            "/content/drive/MyDrive/Book/deeplearng_basic_3\n"
          ]
        }
      ],
      "source": [
        "cd '/content/drive/MyDrive/Book/deeplearng_basic_3/'"
      ]
    },
    {
      "cell_type": "markdown",
      "source": [
        "## 25단계: 계산 그래프 시각화(1)\n",
        "- 이 단계는 복잡한 식을 계산하는 계산 그래프를 시각화한다.\n",
        "\n",
        "### 25.1 Graphviz 설치하기\n",
        "- Graphviz는 그래프를 시각화하는 도구이다."
      ],
      "metadata": {
        "id": "GqA1FS7Yt7d-"
      }
    },
    {
      "cell_type": "code",
      "source": [
        "!sudo apt install graphviz"
      ],
      "metadata": {
        "colab": {
          "base_uri": "https://localhost:8080/"
        },
        "id": "WmKlHpo0u5UI",
        "outputId": "71bf1ad9-2390-476c-bacf-9fe6184a5406"
      },
      "execution_count": null,
      "outputs": [
        {
          "output_type": "stream",
          "name": "stdout",
          "text": [
            "Reading package lists... Done\n",
            "Building dependency tree       \n",
            "Reading state information... Done\n",
            "graphviz is already the newest version (2.42.2-3build2).\n",
            "0 upgraded, 0 newly installed, 0 to remove and 24 not upgraded.\n"
          ]
        }
      ]
    },
    {
      "cell_type": "code",
      "source": [
        "!dot -V"
      ],
      "metadata": {
        "colab": {
          "base_uri": "https://localhost:8080/"
        },
        "id": "IbgiOI4yvCKc",
        "outputId": "cd70a61d-cb5b-4656-ade1-85370a34ab56"
      },
      "execution_count": null,
      "outputs": [
        {
          "output_type": "stream",
          "name": "stdout",
          "text": [
            "dot - graphviz version 2.43.0 (0)\n"
          ]
        }
      ]
    },
    {
      "cell_type": "markdown",
      "source": [
        "### 25.2 DOT 언어로 그래프 작성하기"
      ],
      "metadata": {
        "id": "obyyaQNbvM1D"
      }
    },
    {
      "cell_type": "code",
      "source": [
        "digraph g{\n",
        "    x\n",
        "    y\n",
        "}"
      ],
      "metadata": {
        "id": "jm6uMzkJvju7"
      },
      "execution_count": null,
      "outputs": []
    },
    {
      "cell_type": "code",
      "source": [
        "!dot sample.dot -T png -o sample.png"
      ],
      "metadata": {
        "colab": {
          "base_uri": "https://localhost:8080/"
        },
        "id": "mg1yME2Iw3Xi",
        "outputId": "562f4cfb-99ce-48aa-f698-0f6b74fb9fee"
      },
      "execution_count": null,
      "outputs": [
        {
          "output_type": "stream",
          "name": "stdout",
          "text": [
            "Error: dot: can't open sample.dot\n"
          ]
        }
      ]
    },
    {
      "cell_type": "code",
      "source": [
        "from graphviz import Source\n",
        "from graphviz import Digraph"
      ],
      "metadata": {
        "id": "qDhPohOuvwtm"
      },
      "execution_count": null,
      "outputs": []
    },
    {
      "cell_type": "code",
      "source": [
        "import os\n",
        "os.environ[\"PATH\"] += os.pathsep + '/usr/bin/dot'"
      ],
      "metadata": {
        "id": "8qmNdkx2wiG8"
      },
      "execution_count": null,
      "outputs": []
    },
    {
      "cell_type": "markdown",
      "source": [
        "### 25.3 노드에 속성 지정하기"
      ],
      "metadata": {
        "id": "LBzac7PHysLA"
      }
    },
    {
      "cell_type": "code",
      "source": [
        "dot = Digraph()\n",
        "\n",
        "dot.node('x', color = 'orange', style = 'filled')\n",
        "dot.node('y', color = 'orange', style = 'filled')\n",
        "\n",
        "dot"
      ],
      "metadata": {
        "colab": {
          "base_uri": "https://localhost:8080/",
          "height": 78
        },
        "id": "mA1PnEy4yMKJ",
        "outputId": "62a178b5-bd84-4d65-c821-4d74d135bb08"
      },
      "execution_count": null,
      "outputs": [
        {
          "output_type": "execute_result",
          "data": {
            "image/svg+xml": "<?xml version=\"1.0\" encoding=\"UTF-8\" standalone=\"no\"?>\n<!DOCTYPE svg PUBLIC \"-//W3C//DTD SVG 1.1//EN\"\n \"http://www.w3.org/Graphics/SVG/1.1/DTD/svg11.dtd\">\n<!-- Generated by graphviz version 2.43.0 (0)\n -->\n<!-- Title: %3 Pages: 1 -->\n<svg width=\"134pt\" height=\"44pt\"\n viewBox=\"0.00 0.00 134.00 44.00\" xmlns=\"http://www.w3.org/2000/svg\" xmlns:xlink=\"http://www.w3.org/1999/xlink\">\n<g id=\"graph0\" class=\"graph\" transform=\"scale(1 1) rotate(0) translate(4 40)\">\n<title>%3</title>\n<polygon fill=\"white\" stroke=\"transparent\" points=\"-4,4 -4,-40 130,-40 130,4 -4,4\"/>\n<!-- x -->\n<g id=\"node1\" class=\"node\">\n<title>x</title>\n<ellipse fill=\"orange\" stroke=\"orange\" cx=\"27\" cy=\"-18\" rx=\"27\" ry=\"18\"/>\n<text text-anchor=\"middle\" x=\"27\" y=\"-14.3\" font-family=\"Times,serif\" font-size=\"14.00\">x</text>\n</g>\n<!-- y -->\n<g id=\"node2\" class=\"node\">\n<title>y</title>\n<ellipse fill=\"orange\" stroke=\"orange\" cx=\"99\" cy=\"-18\" rx=\"27\" ry=\"18\"/>\n<text text-anchor=\"middle\" x=\"99\" y=\"-14.3\" font-family=\"Times,serif\" font-size=\"14.00\">y</text>\n</g>\n</g>\n</svg>\n",
            "text/plain": [
              "<graphviz.graphs.Digraph at 0x7f557da6cbb0>"
            ]
          },
          "metadata": {},
          "execution_count": 16
        }
      ]
    },
    {
      "cell_type": "markdown",
      "source": [
        "### 25.4 노드 연결하기"
      ],
      "metadata": {
        "id": "ipy-aVJRyvil"
      }
    },
    {
      "cell_type": "code",
      "source": [
        "dot = Digraph()\n",
        "\n",
        "dot.node('x', color = 'orange', style = 'filled')\n",
        "dot.node('y', color = 'orange', style = 'filled')\n",
        "dot.node('z', color = 'blue', style = 'filled', shape = 'box')\n",
        "\n",
        "dot.edges(['xz', 'zy'])\n",
        "# dot.edge('y', 'z', constraint='false')\n",
        "\n",
        "dot"
      ],
      "metadata": {
        "colab": {
          "base_uri": "https://localhost:8080/",
          "height": 270
        },
        "id": "LhTVtmowyyOJ",
        "outputId": "24192b7a-7e9f-4faf-db6c-cd1ee94e5478"
      },
      "execution_count": null,
      "outputs": [
        {
          "output_type": "execute_result",
          "data": {
            "image/svg+xml": "<?xml version=\"1.0\" encoding=\"UTF-8\" standalone=\"no\"?>\n<!DOCTYPE svg PUBLIC \"-//W3C//DTD SVG 1.1//EN\"\n \"http://www.w3.org/Graphics/SVG/1.1/DTD/svg11.dtd\">\n<!-- Generated by graphviz version 2.43.0 (0)\n -->\n<!-- Title: %3 Pages: 1 -->\n<svg width=\"62pt\" height=\"188pt\"\n viewBox=\"0.00 0.00 62.00 188.00\" xmlns=\"http://www.w3.org/2000/svg\" xmlns:xlink=\"http://www.w3.org/1999/xlink\">\n<g id=\"graph0\" class=\"graph\" transform=\"scale(1 1) rotate(0) translate(4 184)\">\n<title>%3</title>\n<polygon fill=\"white\" stroke=\"transparent\" points=\"-4,4 -4,-184 58,-184 58,4 -4,4\"/>\n<!-- x -->\n<g id=\"node1\" class=\"node\">\n<title>x</title>\n<ellipse fill=\"orange\" stroke=\"orange\" cx=\"27\" cy=\"-162\" rx=\"27\" ry=\"18\"/>\n<text text-anchor=\"middle\" x=\"27\" y=\"-158.3\" font-family=\"Times,serif\" font-size=\"14.00\">x</text>\n</g>\n<!-- z -->\n<g id=\"node3\" class=\"node\">\n<title>z</title>\n<polygon fill=\"blue\" stroke=\"blue\" points=\"54,-108 0,-108 0,-72 54,-72 54,-108\"/>\n<text text-anchor=\"middle\" x=\"27\" y=\"-86.3\" font-family=\"Times,serif\" font-size=\"14.00\">z</text>\n</g>\n<!-- x&#45;&gt;z -->\n<g id=\"edge1\" class=\"edge\">\n<title>x&#45;&gt;z</title>\n<path fill=\"none\" stroke=\"black\" d=\"M27,-143.7C27,-135.98 27,-126.71 27,-118.11\"/>\n<polygon fill=\"black\" stroke=\"black\" points=\"30.5,-118.1 27,-108.1 23.5,-118.1 30.5,-118.1\"/>\n</g>\n<!-- y -->\n<g id=\"node2\" class=\"node\">\n<title>y</title>\n<ellipse fill=\"orange\" stroke=\"orange\" cx=\"27\" cy=\"-18\" rx=\"27\" ry=\"18\"/>\n<text text-anchor=\"middle\" x=\"27\" y=\"-14.3\" font-family=\"Times,serif\" font-size=\"14.00\">y</text>\n</g>\n<!-- z&#45;&gt;y -->\n<g id=\"edge2\" class=\"edge\">\n<title>z&#45;&gt;y</title>\n<path fill=\"none\" stroke=\"black\" d=\"M27,-71.7C27,-63.98 27,-54.71 27,-46.11\"/>\n<polygon fill=\"black\" stroke=\"black\" points=\"30.5,-46.1 27,-36.1 23.5,-46.1 30.5,-46.1\"/>\n</g>\n</g>\n</svg>\n",
            "text/plain": [
              "<graphviz.graphs.Digraph at 0x7f557da6ca90>"
            ]
          },
          "metadata": {},
          "execution_count": 22
        }
      ]
    },
    {
      "cell_type": "markdown",
      "source": [
        "## 26단계: 계산 그래프 시각화(2)\n",
        "- 계산 그래프를 DOT 언어로 변환\n",
        "\n",
        "### 26.2 계산 그래프에서 DOT 언어로 변환하기\n",
        "- _dot_var라는 보조함수를 먼저 구현한다. 이름 앞에 밑줄을 사용한 이유는 get_dot_graph 함수 전용으로 사용할 것이기 때문이다."
      ],
      "metadata": {
        "id": "C1MNS-Tfzg84"
      }
    },
    {
      "cell_type": "code",
      "source": [
        "# 추가 코드\n",
        "def _dot_var(v, verbose = False): # DOT 언어로 작성된 문자열 반환\n",
        "    dot_var = '{} [label = \"{}\", color = orange, style= filled]\\n'\n",
        "\n",
        "    name = '' if v.name is None else v.name\n",
        "    if verbose and v.data is not None:\n",
        "        if v.name is not None:\n",
        "            name += ': '\n",
        "        name += str(v.shape) + ' ' + str(v.dtype)\n",
        "    return dot_var.format(id(v), name)"
      ],
      "metadata": {
        "id": "J1xmWWNR0gh7"
      },
      "execution_count": null,
      "outputs": []
    },
    {
      "cell_type": "code",
      "source": [
        "!python steps/step26.py"
      ],
      "metadata": {
        "colab": {
          "base_uri": "https://localhost:8080/"
        },
        "id": "PlXLijcH23wo",
        "outputId": "a6845c08-96e8-4f9b-fa77-157cfc2c54ff"
      },
      "execution_count": null,
      "outputs": [
        {
          "output_type": "stream",
          "name": "stdout",
          "text": [
            "139888300654544 [label = \"x\", color = orange, style= filled]\n",
            "\n",
            "139888300654544 [label = \"x: (2, 3) float64\", color = orange, style= filled]\n",
            "\n"
          ]
        }
      ]
    },
    {
      "cell_type": "code",
      "source": [
        "# 추가 코드\n",
        "def _dot_func(f): # DeZero를 DOT 언어로 기술한다.\n",
        "    dot_func = '{} [label = \"{}\", color = lightblue, style= filled, shape = box]\\n'\n",
        "    txt = dot_func.format(id(f), f.__class__.__name__)\n",
        "\n",
        "    dot_edge = '{} -> {}\\n'\n",
        "    for x in f.inputs:\n",
        "        txt += dot_edge.format(id(x), id(f))\n",
        "    for y in f.outputs:\n",
        "        txt += dot_edge.format(id(f), id(y())) # y는 약한 참조\n",
        "    return txt"
      ],
      "metadata": {
        "id": "3X5OJWpM3f88"
      },
      "execution_count": null,
      "outputs": []
    },
    {
      "cell_type": "code",
      "source": [
        "!python steps/step26.py"
      ],
      "metadata": {
        "colab": {
          "base_uri": "https://localhost:8080/"
        },
        "id": "7HpEsAhH4oQy",
        "outputId": "416e48e4-a104-4a13-a698-0ea46787f7bb"
      },
      "execution_count": null,
      "outputs": [
        {
          "output_type": "stream",
          "name": "stdout",
          "text": [
            "140422137702832 [label = \"Add\", color = lightblue, style= filled, shape = box]\n",
            "140422137708496 -> 140422137702832\n",
            "140422137702352 -> 140422137702832\n",
            "140422137702832 -> 140422137703696\n",
            "\n"
          ]
        }
      ]
    },
    {
      "cell_type": "code",
      "source": [
        "# 추가 코드\n",
        "# DOT 언어로 기술한 문자열을 txt에 추가한다.\n",
        "def get_dot_graph(output, verbose = True):\n",
        "    txt = ''\n",
        "    funcs = []\n",
        "    seen_set = set()\n",
        "\n",
        "    def add_func(f):\n",
        "        if f not in seen_set:\n",
        "            funcs.append(f)\n",
        "            # funcs.sort(key = lambda x: x.generation)\n",
        "            seen_set.add(f)\n",
        "    \n",
        "    add_func(output.creator)\n",
        "    txt += _dot_var(output, verbose)\n",
        "\n",
        "    while funcs:\n",
        "        func = funcs.pop()\n",
        "        txt += _dot_func(func)\n",
        "        for x in func.inputs:\n",
        "            txt += _dot_var(x, verbose)\n",
        "\n",
        "            if x.creator is not None:\n",
        "                add_func(x.creator)\n",
        "    \n",
        "    return 'digraph g {\\n' + txt + '}'"
      ],
      "metadata": {
        "id": "njKJ6-l-4_CK"
      },
      "execution_count": null,
      "outputs": []
    },
    {
      "cell_type": "markdown",
      "source": [
        "### 26.3 이미지 변환까지 한 번에\n",
        "- DOT 언어를 이미지로 변환하기 위해 dot 명령 실행까지 한 번에 해주는 함수를 사용한다."
      ],
      "metadata": {
        "id": "0bIuZyCV6bCB"
      }
    },
    {
      "cell_type": "code",
      "source": [
        "# 추가 코드\n",
        "import os\n",
        "import subprocess\n",
        "\n",
        "def plot_dot_graph(output, verbose = True, to_file = 'graph.png'):\n",
        "    dot_graph = get_dot_graph(output, verbose)\n",
        "\n",
        "    # dot 데이터를 파일에 저장\n",
        "    tmp_dir = os.path.join(os.path.expanduser('~'), 'dezero')\n",
        "    if not os.path.exists(tmp_dir): # ~/.dezero 디렉터리가 없다면 생성\n",
        "        os.mkdir(tmp_dir)\n",
        "    graph_path = os.path.join(tmp_dir, 'tmp_graph.dot')\n",
        "\n",
        "    with open(graph_path, 'w') as f:\n",
        "        f.write(dot_graph)\n",
        "\n",
        "    # dot 명령 호출\n",
        "    extension = os.path.splitext(to_file)[1][1:] # 확장자(png, pdf 등)\n",
        "    cmd = 'dot {} -T {} -o {}'.format(graph_path, extension, to_file)\n",
        "    subprocess.run(cmd, shell = True)"
      ],
      "metadata": {
        "id": "mR97ZGmO6sQL"
      },
      "execution_count": null,
      "outputs": []
    },
    {
      "cell_type": "code",
      "source": [
        "!python steps/step26.py # 이미지 생성 완료!"
      ],
      "metadata": {
        "id": "AC7OgAQV8RNC"
      },
      "execution_count": null,
      "outputs": []
    },
    {
      "cell_type": "code",
      "source": [
        "# 이미지 열어보기\n",
        "\n",
        "import matplotlib.pyplot as plt\n",
        "import matplotlib.image as mpimg\n",
        "\n",
        "img = mpimg.imread('goldstein.png')\n",
        "imgplot = plt.imshow(img)\n",
        "plt.show()"
      ],
      "metadata": {
        "colab": {
          "base_uri": "https://localhost:8080/",
          "height": 435
        },
        "id": "vHTXlD7P8dGL",
        "outputId": "9b096204-6d5a-4f2e-9abd-4d136faf592e"
      },
      "execution_count": null,
      "outputs": [
        {
          "output_type": "display_data",
          "data": {
            "text/plain": [
              "<Figure size 640x480 with 1 Axes>"
            ],
            "image/png": "[encoded data removed]"
          },
          "metadata": {}
        }
      ]
    },
    {
      "cell_type": "markdown",
      "source": [
        "## 27단계: 테일러 급수 미분\n",
        "- sin 함수의 미분을 구현한다.\n",
        "\n",
        "### 27.1 sin 함구 구현\n",
        "- sin의 미분 값은 cos이다."
      ],
      "metadata": {
        "id": "wI-s17Eg8vSH"
      }
    },
    {
      "cell_type": "code",
      "source": [
        "# 추가 코드\n",
        "\n",
        "import numpy as np\n",
        "from dezero import Function\n",
        "\n",
        "class Sin(Function):\n",
        "    def forward(self, x):\n",
        "        y = np.sin(x)\n",
        "        return y\n",
        "\n",
        "    def backward(self, gy):\n",
        "        x = self.inputs[0].data\n",
        "        gx = gy * np.cos(x)\n",
        "        return gx\n",
        "\n",
        "def sin(x):\n",
        "    return Sin()(x)"
      ],
      "metadata": {
        "id": "hhJVL5fB9-ug"
      },
      "execution_count": null,
      "outputs": []
    },
    {
      "cell_type": "code",
      "source": [
        "!python steps/step27.py "
      ],
      "metadata": {
        "colab": {
          "base_uri": "https://localhost:8080/"
        },
        "id": "Na-rIbNu-vyS",
        "outputId": "d672cc8e-4434-4f10-bf22-53d028e43550"
      },
      "execution_count": null,
      "outputs": [
        {
          "output_type": "stream",
          "name": "stdout",
          "text": [
            "0.7071064695751781\n",
            "2.5533807987072743\n"
          ]
        }
      ]
    },
    {
      "cell_type": "markdown",
      "source": [
        "### 27.2 테일러 급수 이론\n",
        "- 이제 sin 함수의 미분을 다른 방법으로 계산하려한다. 바로 테일러 급수이다. 테일러 급수란 어떤 함수를 다항식으로 근사하는 방법이다. 아래는 수식\n",
        "\n",
        "- $f(x) = f(a) + f^{'}(a)(x-a)+\\frac{1}{2!}f^{\"}(a)(x-a)^2+\\dots$\n",
        "\n",
        "- 여기에서 a는 $f(x)$의 테일러 급수이고 a는 임의의 값이다.\n",
        "- 위 식처럼 n차 미분방식으로 항이 무한히 계속되지만, 어느 시점에서 중단하면 $f(x)$의 값을 근사할 수 있다. 항이 많아질수록 근사의 정확도가 높아진다.\n",
        "- 한편 $a = 0$일 때의 테일러 급수는 매클로린 전개라고한다.\n",
        "- $f(x) = sin(x)$를 식에 적용하면 아래와 같은 공식이 생긴다.\n",
        "- $sin(x) = \\sum_{i = 0}^{\\infty}(-1)^{i}\\frac{x^{2i+1}}{(2i+1)!}$\n",
        "- i가 커질수록 근사 정밀도가 좋아지고 위 수식의 절댓값은 작아지므로 i의 값을 적절히 결정할 수 있다.\n",
        "\n",
        "### 27.3 테일러 급수 구현\n",
        "- 파이썬의 math 모듈에 있는 math.factorial 함수를 사용한다."
      ],
      "metadata": {
        "id": "2yM8Z-df-0El"
      }
    },
    {
      "cell_type": "code",
      "source": [
        "# 추가 코드\n",
        "import math\n",
        "\n",
        "def my_sin(x, threshold = 0.0001):\n",
        "    y = 0\n",
        "    for i in range(100000):\n",
        "        c = (-1) ** i / math.factorial(2 * i +1)\n",
        "        t = c * x ** (2 * i + 1)\n",
        "        y = y + t\n",
        "        if abs(t.data) < threshold:\n",
        "            break\n",
        "    return y"
      ],
      "metadata": {
        "id": "e_VnuO5QBKCB"
      },
      "execution_count": null,
      "outputs": []
    },
    {
      "cell_type": "code",
      "source": [
        "!python steps/step27.py # core_simple.py 오타 수정"
      ],
      "metadata": {
        "colab": {
          "base_uri": "https://localhost:8080/"
        },
        "id": "mdqc4uoeB3XO",
        "outputId": "69fa6913-2ac4-4f2d-c35b-a402ca0c79af"
      },
      "execution_count": null,
      "outputs": [
        {
          "output_type": "stream",
          "name": "stdout",
          "text": [
            "0.7071064695751781\n",
            "0.7071032148228457\n"
          ]
        }
      ]
    },
    {
      "cell_type": "markdown",
      "source": [
        "### 27.4 계산 그래프 시각화\n"
      ],
      "metadata": {
        "id": "_pAFbJ7EE-M9"
      }
    },
    {
      "cell_type": "code",
      "source": [
        "!python steps/step27.py"
      ],
      "metadata": {
        "colab": {
          "base_uri": "https://localhost:8080/"
        },
        "id": "qjGT4gDcFA0I",
        "outputId": "b38f0c2a-6d62-4a45-d6cc-5c77de21ac7f"
      },
      "execution_count": null,
      "outputs": [
        {
          "output_type": "stream",
          "name": "stdout",
          "text": [
            "0.7071064695751781\n",
            "0.7071032148228457\n"
          ]
        }
      ]
    },
    {
      "cell_type": "code",
      "source": [
        "# 이미지 열어보기\n",
        "\n",
        "import matplotlib.pyplot as plt\n",
        "import matplotlib.image as mpimg\n",
        "\n",
        "img = mpimg.imread('my_sin.png')\n",
        "imgplot = plt.imshow(img)\n",
        "plt.show()"
      ],
      "metadata": {
        "colab": {
          "base_uri": "https://localhost:8080/",
          "height": 435
        },
        "id": "mat7akQuFU_z",
        "outputId": "a27e52d1-29a2-4b2f-db8a-1ea1e731263e"
      },
      "execution_count": null,
      "outputs": [
        {
          "output_type": "display_data",
          "data": {
            "text/plain": [
              "<Figure size 640x480 with 1 Axes>"
            ],
            "image/png": "[encoded data removed]"
          },
          "metadata": {}
        }
      ]
    },
    {
      "cell_type": "markdown",
      "source": [
        "## 28단계: 함수 최적화\n",
        "- 구체적인 함수를 대상으로 최적화를 수행\n",
        "- 최적화란 어떤 함수가 주어졌을 때 그 최솟값(또는 최댓값)을 반환하는 입력(함수의 인수)을 찾는 일이다.\n",
        "\n",
        "### 28.1 로젠브룩 함수\n",
        "- 로젠브룩 함수의 수식은 아래와 같다.\n",
        "- $y = 100(x_1-x_{0}^2)^2 + (1 - x_{0})^2$\n",
        "\n",
        "![](https://blog.kakaocdn.net/dn/cyG7eM/btrhqfhaoOA/1mlT45KN9zaDIxY6mkKkeK/img.png)\n",
        "<center>로젠브룩 함수의 형태</center>\n",
        "\n",
        "- 이 형태를 보면 포물선 모양으로 길게 뻗은 골짜기가 보인다. 이번 단계의 목표는 함수의 출력이 최소가 되는 $x_0$, $x_1$을 찾는 것이다.\n",
        "\n",
        "### 28.2 미분 계산하기\n",
        "- x0, x1의 두 미분값은 (-2.0, 400.0) 벡터를 기울기 또는 기울기 벡터라고한다. 기울기는 각 지점에서 함수의 출력을 가장 크게하는 방향을 가리킨다. 반대로 여기에 마이너스를 곱하면 y값을 가장 작게 줄여주는 방향을 뜻한다."
      ],
      "metadata": {
        "id": "nJdeVsywFghm"
      }
    },
    {
      "cell_type": "code",
      "source": [
        "!python steps/step28.py\n",
        "\n",
        "# -2.0, 400.0"
      ],
      "metadata": {
        "colab": {
          "base_uri": "https://localhost:8080/"
        },
        "id": "EawtMIxoXdZx",
        "outputId": "2b5227a6-2878-4cc6-b8f7-dcd5b7885686"
      },
      "execution_count": null,
      "outputs": [
        {
          "output_type": "stream",
          "name": "stdout",
          "text": [
            "-2.0 400.0\n"
          ]
        }
      ]
    },
    {
      "cell_type": "markdown",
      "source": [
        "### 28.3 경사하강법 구현\n",
        "- 함수가 복잡할수록 기울기가 가리키는 방향이 반드시 최댓값(최솟값)이 존재한다고 볼 수 없다. 그렇기 때문에 경사하강법을 사용하는 것이다."
      ],
      "metadata": {
        "id": "kUGYNrswYHwj"
      }
    },
    {
      "cell_type": "code",
      "source": [
        "!python steps/step28.py"
      ],
      "metadata": {
        "id": "kLkOLH_gY95n"
      },
      "execution_count": null,
      "outputs": []
    },
    {
      "cell_type": "markdown",
      "source": [
        "## 29단계: 뉴턴 방법으로 푸는 최적화\n",
        "- 전 단계에서 로벤프북 함수의 최솟값을 경사하강법으로 구했다. 다만 경사하강법은 일반적으로 수렴이 느리다는 단점이 있다. 이런 단점을 보완하고자 뉴턴 방법을 사용할 수 있다.\n",
        "\n",
        "### 29.1 뉴탄 방법을 활용한 최적화 이론\n",
        "- $x <- x-\\alpha f^{'}(x)$\n",
        "- $x <- x-\\frac{f^{'}(x)}{f^{\"}(x)}$\n",
        "- 첫 번째 수식은 경사하강법이고 두 번째 수식은 뉴턴 방법이다. 차이점은 경사하강법은 $\\alpha$라는 계수를 연구자가 수동으로 설정한다. 이에 반해 뉴턴 방법은 2차 미분을 이용하요 경사하강법에서 말하는 $\\alpha$를 자동으로 조정한다.\n",
        "\n",
        "### 29.2 뉴턴 방법을 활용한 최적화 구현\n",
        "- 아직 DeZero는 2차 미분을 하지 못하기 때문에 수동으로 2차 미분을 구해준다."
      ],
      "metadata": {
        "id": "ZcPNKpvGZYUT"
      }
    },
    {
      "cell_type": "code",
      "source": [
        "# 추가 코드\n",
        "\n",
        "if '__file__' in globals():\n",
        "    import os, sys\n",
        "    sys.path.append(os.path.join(os.path.dirname(__file__), '..'))\n",
        "\n",
        "import numpy as np\n",
        "from dezero import Function, Variable\n",
        "\n",
        "def f(x):\n",
        "    y = x ** 4 - 2 * x ** 2\n",
        "    return y\n",
        "\n",
        "def gx2(x):\n",
        "    return 12 * x ** 2 - 4\n",
        "\n",
        "x = Variable(np.array(2.0))\n",
        "iters = 10\n",
        "\n",
        "for i in range(iters):\n",
        "    print(i, x)\n",
        "\n",
        "    y = f(x)\n",
        "    x.cleargrad()\n",
        "    y.backward()\n",
        "\n",
        "    x.data -= x.grad / gx2(x.data)"
      ],
      "metadata": {
        "id": "JP3p5R7lcs-m"
      },
      "execution_count": null,
      "outputs": []
    },
    {
      "cell_type": "code",
      "source": [
        "!python steps/step29.py\n",
        "\n",
        "# 뉴턴 방법으로 구한 최솟값은 1이다."
      ],
      "metadata": {
        "colab": {
          "base_uri": "https://localhost:8080/"
        },
        "id": "kdmwHkTddXa9",
        "outputId": "74d5b65d-cb2b-464e-b5b5-189b65d12f21"
      },
      "execution_count": null,
      "outputs": [
        {
          "output_type": "stream",
          "name": "stdout",
          "text": [
            "0 variable(2.0)\n",
            "1 variable(1.4545454545454546)\n",
            "2 variable(1.1510467893775467)\n",
            "3 variable(1.0253259289766978)\n",
            "4 variable(1.0009084519430513)\n",
            "5 variable(1.0000012353089454)\n",
            "6 variable(1.000000000002289)\n",
            "7 variable(1.0)\n",
            "8 variable(1.0)\n",
            "9 variable(1.0)\n"
          ]
        }
      ]
    },
    {
      "cell_type": "markdown",
      "source": [
        "## 30단계: 고차 미분 (준비편)\n",
        "- 현재 DeZero는 미분을 자동으로 계산하지만 1차 미분에 한에서 기능을 수행한다. 어떤 형태의 고차미분까지 자동으로 계산하도록 DeZero의 확장이 필요하다.\n",
        "\n",
        "- 이 단계에서는 Variable 순전파, 역전파, Fuction의 계산 방식을 다시 확인하는 과정이다. 교재를 한번 다시 읽어보면서 이해하고 넘어가자 \n",
        "\n",
        "## 31단계 : 고차 미분 (이론편)\n",
        "- 이전 단계에서는 현재의 DeZero 구현을 알아봤고 요점은 다음과 같다,\n",
        "- 계산의 '연결'은 Function 클래스의 __call__ 메서드에서 만들어진다.\n",
        "- 구체적인 순전파와 역적파 계산은 Function 클래스를 상속한 클래스의 forward 메서드와 backward 메서드로 처리한다."
      ],
      "metadata": {
        "id": "lIzAwnJnefMR"
      }
    },
    {
      "cell_type": "markdown",
      "source": [
        "## 32단계 : 고차 미분 (구현 편)\n",
        "- 이번 단계에서는 DeZero의 고차 미분을 코드로 구현한다. core_simple에서 이제 core.py로 바꿔 새롭게 구현할 것이다.\n",
        "\n",
        "### 32.1 새로운 DeZero\n",
        "- 기존 Variable 클래스를 변경한다."
      ],
      "metadata": {
        "id": "zL1O-rq9lGHd"
      }
    },
    {
      "cell_type": "code",
      "source": [
        "# 변경코드\n",
        "class Variable:\n",
        "\n",
        "    def backward(self, retain_grad = False): # retain_grad = False는 중간 변수 미분값을 모두 None으로 설정\n",
        "            if self.grad is None:\n",
        "                #self.grad = np.ones_like(self.data) # self.data와 형상과 데이터 터입이 같은 ndarray 인스턴스 생성\n",
        "                self.grad = Variable(np.ones_like(self.data))"
      ],
      "metadata": {
        "id": "CQyNZD_-l35K"
      },
      "execution_count": null,
      "outputs": []
    },
    {
      "cell_type": "markdown",
      "source": [
        "### 32.2 함수 클래스의 역전파\n",
        "- Add, Mul, Neg, Sub, Div, Pow 함수를 수정하도록 한다."
      ],
      "metadata": {
        "id": "DiuF2UNZmg6J"
      }
    },
    {
      "cell_type": "code",
      "source": [
        "# 변경 코드\n",
        "\n",
        "class Mul(Function):\n",
        "    def forward(self, x0, x1):\n",
        "        y = x0 * x1\n",
        "        return y\n",
        "\n",
        "    def backward(self, gy):\n",
        "        x0, x1 = self.inputs\n",
        "        return gy * x1, gy * x0 # 오타 수정\n",
        "\n",
        "def mul(x0, x1):\n",
        "    x1 = as_array(x1) # ndarray 인스턴스로 변환\n",
        "    return Mul()(x0, x1)"
      ],
      "metadata": {
        "id": "QH5nKeHumzf5"
      },
      "execution_count": null,
      "outputs": []
    },
    {
      "cell_type": "markdown",
      "source": [
        "### 32.3 역전파를 더 효율적으로 (모드 추가)\n",
        "- 역전파를 처음 한 번 이우로 다시 할 일이 없다면 역전파 계산도 '역전파 비활성화 모드'로 실행하도록 만든다."
      ],
      "metadata": {
        "id": "41mGL2xkntWN"
      }
    },
    {
      "cell_type": "code",
      "source": [
        "def backward(self, retain_grad = False, create_graph = False): # retain_grad = False는 중간 변수 미분값을 모두 None으로 설정\n",
        "\n",
        "    while funcs:\n",
        "            f = funcs.pop() # 1. 함수를 가져온다.\n",
        "            gys = [output().grad for output in f.outputs] # 약한 참조를 적용하고 출력 변수(미분값)을 리스트에 담는다.\n",
        "            \n",
        "            with using_config('enable_backprop', create_graph):\n",
        "                gxs = f.backward(*gys) # 메인 backward\n",
        "                if not isinstance(gxs, tuple): # 튜플이 아닌 경우 튜플로 변경\n",
        "                    gxs = (gxs, )\n",
        "                for x, gx in zip(f.inputs, gxs): # 모든 Variable 인스턴스 각각에 알맞은 미분값을 설정\n",
        "                    if x.grad is None:\n",
        "                        x.grad = gx\n",
        "                    else:\n",
        "                        x.grad = x.grad + gx # 미분값을 더해준다.\n",
        "\n",
        "                    if x.creator is not None:\n",
        "                        add_func(x.creator)\n",
        "\n",
        "            if not retain_grad:\n",
        "                for y in f.outputs:\n",
        "                    y().grad = None # y는 약한 참조, 각 함수의 출력 변수의 미분값을 \n",
        "                    # 유지하지 않도록 설정"
      ],
      "metadata": {
        "id": "L94JbqXooKuf"
      },
      "execution_count": null,
      "outputs": []
    },
    {
      "cell_type": "markdown",
      "source": [
        "### 32.4 __init__.py 변경\n",
        "- 새로운 DeZero를 사용하기 때문에 is_simple_core = False로 __init__.py를 수정해준다."
      ],
      "metadata": {
        "id": "83K0kCNXpowZ"
      }
    },
    {
      "cell_type": "markdown",
      "source": [
        "## 33단계 : 뉴턴 방법으로 푸트 최적화(자동 계산)\n",
        "\n",
        "### 33.1 2차 미분 계산하기\n",
        "- 이 미분 계산값은 2차 미분 결과값이 제대로 나오지 않고있다. 왜냐하면 Variable에 미분값이 남아 있는 상태에서 새로운 역전파를 수행했기 때문이다. 이 문제를 해결하기 위해 새로운 계산을 하기 전에 Variable의 미분값을 재설정하여야한다."
      ],
      "metadata": {
        "id": "c4lazvhKqCvN"
      }
    },
    {
      "cell_type": "code",
      "source": [
        "!python steps/step33.py"
      ],
      "metadata": {
        "colab": {
          "base_uri": "https://localhost:8080/"
        },
        "id": "K-JlXP-ArOli",
        "outputId": "23eea049-467b-4242-d76a-0e1f2127846d"
      },
      "execution_count": null,
      "outputs": [
        {
          "output_type": "stream",
          "name": "stdout",
          "text": [
            "variable(24.0)\n",
            "variable(68.0)\n"
          ]
        }
      ]
    },
    {
      "cell_type": "code",
      "source": [
        "# 미분값 재설정이 들어간 코드 시행\n",
        "!python steps/step33.py"
      ],
      "metadata": {
        "colab": {
          "base_uri": "https://localhost:8080/"
        },
        "id": "1w6j-29kuIl1",
        "outputId": "39071384-6ebe-457d-8ff4-28b96c9785ed"
      },
      "execution_count": null,
      "outputs": [
        {
          "output_type": "stream",
          "name": "stdout",
          "text": [
            "variable(24.0)\n",
            "variable(44.0)\n"
          ]
        }
      ]
    },
    {
      "cell_type": "markdown",
      "source": [
        "### 33.2 뉴턴 방법을 활용한 최적화\n",
        "- 뉴턴 방법을 활용한 최적화의 수식을 다시보면 함수 $f(x)$의 1차 미분과 2차 미분을 사용하여 $x$를 갱신하고 있다. 이 계산을 DeZero를 사용하여 자동으로 수행되도록 한다.\n"
      ],
      "metadata": {
        "id": "2Ofw88asuQhc"
      }
    },
    {
      "cell_type": "code",
      "source": [
        "!python steps/step33.py\n",
        "\n",
        "# 7회만에 최적 최솟값에 도달하였따."
      ],
      "metadata": {
        "colab": {
          "base_uri": "https://localhost:8080/"
        },
        "id": "xo0FzM6GYkkV",
        "outputId": "3a3b4ca6-a504-435e-c984-4ef8285aa665"
      },
      "execution_count": 4,
      "outputs": [
        {
          "output_type": "stream",
          "name": "stdout",
          "text": [
            "0 variable(2.0)\n",
            "1 variable(1.4545454545454546)\n",
            "2 variable(1.1510467893775467)\n",
            "3 variable(1.0253259289766978)\n",
            "4 variable(1.0009084519430513)\n",
            "5 variable(1.0000012353089454)\n",
            "6 variable(1.000000000002289)\n",
            "7 variable(1.0)\n",
            "8 variable(1.0)\n",
            "9 variable(1.0)\n"
          ]
        }
      ]
    },
    {
      "cell_type": "markdown",
      "source": [
        "## 34단계 : sin 함수 고차 미분\n",
        "\n",
        "### 34.1 sin 함수 구현"
      ],
      "metadata": {
        "id": "XadaWpOhY3TH"
      }
    },
    {
      "cell_type": "code",
      "source": [
        "# functions.py 구현 코드\n",
        "\n",
        "import numpy as np\n",
        "from dezero.core import Function\n",
        "\n",
        "class Sin(Function):\n",
        "    def forward(self, x):\n",
        "        y = np.sin(x)\n",
        "        return y\n",
        "\n",
        "    def backward(self, gy):\n",
        "        x, = self.inputs\n",
        "        gx = gy * cos(x) # DeZero의 cos 함수\n",
        "        return gx\n",
        "\n",
        "def sin(x):\n",
        "    return Sin()(x)"
      ],
      "metadata": {
        "id": "vq0YzD_nZV5j"
      },
      "execution_count": null,
      "outputs": []
    },
    {
      "cell_type": "markdown",
      "source": [
        "### 34.2 cos 함수 구현"
      ],
      "metadata": {
        "id": "cPwASenaawRx"
      }
    },
    {
      "cell_type": "code",
      "source": [
        "# functions.py 구현 코드\n",
        "\n",
        "class Cos(Function):\n",
        "    def forward(self, x):\n",
        "        y = np.cos(x)\n",
        "        return y\n",
        "\n",
        "    def backward(self, gy):\n",
        "        x, = self.inputs\n",
        "        gx = gy * -sin(x)\n",
        "        return gx\n",
        "\n",
        "def cos(x):\n",
        "    return Cos()(x)"
      ],
      "metadata": {
        "id": "ri25iWGpa0E9"
      },
      "execution_count": null,
      "outputs": []
    },
    {
      "cell_type": "markdown",
      "source": [
        "### 34.3 sin 함수 고차 미분"
      ],
      "metadata": {
        "id": "HlUralPxbT6m"
      }
    },
    {
      "cell_type": "code",
      "source": [
        "import numpy as np\n",
        "from dezero import Variable\n",
        "import dezero.functions as F\n",
        "\n",
        "x = Variable(np.array(1.0))\n",
        "y = F.sin(x)\n",
        "y.backward(create_graph = True)\n",
        "\n",
        "for i in range(3):\n",
        "    gx = x.grad\n",
        "    x.cleargrad()\n",
        "    gx.backward(create_graph = True)\n",
        "    print(x.grad) # n차 미분"
      ],
      "metadata": {
        "id": "6J5Wyi0bbYBY"
      },
      "execution_count": null,
      "outputs": []
    },
    {
      "cell_type": "code",
      "source": [
        "!python steps/step34.py"
      ],
      "metadata": {
        "colab": {
          "base_uri": "https://localhost:8080/"
        },
        "id": "S9ZhTAH9cQIP",
        "outputId": "40a115db-fc05-4add-e4af-c82b66fce559"
      },
      "execution_count": 6,
      "outputs": [
        {
          "output_type": "stream",
          "name": "stdout",
          "text": [
            "variable(-0.8414709848078965)\n",
            "variable(-0.5403023058681398)\n",
            "variable(0.8414709848078965)\n"
          ]
        }
      ]
    },
    {
      "cell_type": "code",
      "source": [
        "# 앞 예시에서 코드 확장\n",
        "\n",
        "import numpy as np\n",
        "import matplotlib.pyplot as plt\n",
        "from dezero import Variable\n",
        "import dezero.functions as F\n",
        "\n",
        "x = Variable(np.linspace(-7, 7, 200)) # -7부터 7까지 균일하게 200등분한 1차원 배열\n",
        "y = F.sin(x)\n",
        "y.backward(create_graph = True)\n",
        "\n",
        "logs = [y.data]\n",
        "\n",
        "for i in range(3):\n",
        "    logs.append(x.grad.data)\n",
        "    gx = x.grad\n",
        "    x.cleargrad()\n",
        "    gx.backward(create_graph = True)\n",
        "\n",
        "# 그래프 그리기\n",
        "labels = ['y=sin(x)', 'y', \"y'\", \"y''\"]\n",
        "for i, v in enumerate(logs):\n",
        "    plt.plot(x.data, logs[i], label = labels[i])\n",
        "plt.legend(loc = 'lower right')\n",
        "plt.show"
      ],
      "metadata": {
        "colab": {
          "base_uri": "https://localhost:8080/",
          "height": 448
        },
        "id": "EWCI3CzmceKs",
        "outputId": "fb253804-20c0-48f2-f3fb-342489667f4b"
      },
      "execution_count": 11,
      "outputs": [
        {
          "output_type": "execute_result",
          "data": {
            "text/plain": [
              "<function matplotlib.pyplot.show(close=None, block=None)>"
            ]
          },
          "metadata": {},
          "execution_count": 11
        },
        {
          "output_type": "display_data",
          "data": {
            "text/plain": [
              "<Figure size 640x480 with 1 Axes>"
            ],
            "image/png": "[encoded data removed]"
          },
          "metadata": {}
        }
      ]
    },
    {
      "cell_type": "code",
      "source": [
        "!python steps/step34.py"
      ],
      "metadata": {
        "id": "uzheZkQ7dUmM"
      },
      "execution_count": 12,
      "outputs": []
    },
    {
      "cell_type": "markdown",
      "source": [
        "## 35단계 : 고차 미분 계산 그래프\n",
        "- 이번 단계에서는 tanh 함수를 추가로 구현한다.\n",
        "- $y = tanh(x) = \\frac{e^x-e^{-x}}{e^x+e^{-x}}$\n",
        "\n",
        "### 35.1 tanh 함수 미분\n",
        "- $\\frac{\\partial tanh(x)}{\\partial x} = 1-y^2$\n",
        "- 위 식은 전개과정에서 결과만을 나타낸 것이고 자세한 수식은 교재를 참고\n",
        "\n",
        "### 35.2 tanh 함수 구현"
      ],
      "metadata": {
        "id": "mGOWXn83eUq8"
      }
    },
    {
      "cell_type": "code",
      "source": [
        "class Tanh(Function):\n",
        "    def forward(self, x):\n",
        "        y = np.tanh(x)\n",
        "        return y\n",
        "\n",
        "    def backward(self, gy):\n",
        "        y = self.outputs[0]()\n",
        "        gx = gy * (1 - y * y)\n",
        "        return gx\n",
        "\n",
        "def tanh(x):\n",
        "    return Tanh()(x)"
      ],
      "metadata": {
        "id": "f1qpV_50gCkW"
      },
      "execution_count": null,
      "outputs": []
    },
    {
      "cell_type": "markdown",
      "source": [
        "### 35.3 고차 미분 계산 그래프 시각화"
      ],
      "metadata": {
        "id": "AW4Rv2bLjuJN"
      }
    },
    {
      "cell_type": "code",
      "source": [
        "# tanh 고차 미분 계산 그래프 시각화\n",
        "\n",
        "import numpy as np\n",
        "from dezero import Variable\n",
        "from dezero.utils import plot_dot_graph\n",
        "import dezero.functions as F\n",
        "\n",
        "x = Variable(np.array(1.0))\n",
        "y = F.tanh(x)\n",
        "x.name = 'x'\n",
        "y.name = 'y'\n",
        "y.backward(create_graph = True)\n",
        "\n",
        "iters = 0\n",
        "\n",
        "for i in range(iters):\n",
        "    gx = x.grad\n",
        "    x.cleargrad()\n",
        "    gx.backward(create_graph = True)\n",
        "\n",
        "# 계산 그래프 그리기\n",
        "gx = x.grad\n",
        "gx.name = 'gs' + str(iters + 1)\n",
        "plot_dot_graph(gx, verbose = False, to_file = 'tanh.png')"
      ],
      "metadata": {
        "id": "iHGk7Bfgjyzz"
      },
      "execution_count": null,
      "outputs": []
    },
    {
      "cell_type": "code",
      "source": [
        "!python steps/step35.py"
      ],
      "metadata": {
        "id": "7Nu7vk_mkdf0"
      },
      "execution_count": 14,
      "outputs": []
    },
    {
      "cell_type": "markdown",
      "source": [
        "## 36단계 : 고차 미분 이외의 용도\n",
        "\n",
        "### 36.1 double backprop의 용도\n",
        "- 역전파로 수행한 계산에 대하여 또 다시 역전파할 수 있는 것을 double backprop이라고 한다."
      ],
      "metadata": {
        "id": "NqQCxitqk7HB"
      }
    },
    {
      "cell_type": "code",
      "source": [
        "import numpy as np\n",
        "from dezero import Variable\n",
        "\n",
        "x = Variable(np.array(2.0))\n",
        "y = x ** 2\n",
        "y.backward(create_graph = True) # 미분을 하기 위해 역전파하는 코드\n",
        "gx = x.grad # 계산 그래프 식\n",
        "x.cleargrad()\n",
        "\n",
        "z = gx ** 3 + y\n",
        "z.backward()\n",
        "print(x.grad)"
      ],
      "metadata": {
        "id": "BuiQU3WIlilT"
      },
      "execution_count": null,
      "outputs": []
    },
    {
      "cell_type": "code",
      "source": [
        "!python steps/step36.py"
      ],
      "metadata": {
        "colab": {
          "base_uri": "https://localhost:8080/"
        },
        "id": "c_lQZ9nLoNZh",
        "outputId": "c4437dc7-514e-4b31-8676-cc7b52b78b41"
      },
      "execution_count": 15,
      "outputs": [
        {
          "output_type": "stream",
          "name": "stdout",
          "text": [
            "variable(100.0)\n"
          ]
        }
      ]
    },
    {
      "cell_type": "markdown",
      "source": [
        "### 36.2 딥러닝 연구에서의 사용 예\n",
        "- 딥런닝에서 double backprop을 사용하는 연구는 여러 가지이다. 예시로 WGAN-GP 논문에서는 아래 그림의 수식을 최적화한다.\n",
        "\n",
        "![](https://github.com/sgr1118/deep-learning-from-scratch-3/blob/main/%EA%B7%B8%EB%A6%BC%EA%B3%BC%20%EC%88%98%EC%8B%9D/%EA%B7%B8%EB%A6%BC%2036-1.png?raw=true)\n",
        "<center></center>\n",
        "\n",
        "- 위 수식에서 주목해야 할 점은 최적화하는 기울기가 들어 있다는 것이다. 이 기울기는 첫 번째 역전파에서 구할 수 있다. 그리고 이 기울기를 사용하여 함수 $L$을 계산하고 함수 $L$을 최적화하기 위하여 두 번째 역전파를 한다."
      ],
      "metadata": {
        "id": "Y4LJkrStohTp"
      }
    }
  ]
}