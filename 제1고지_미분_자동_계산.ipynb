{
  "nbformat": 4,
  "nbformat_minor": 0,
  "metadata": {
    "colab": {
      "provenance": [],
      "mount_file_id": "1UgWGPcjIFPEIH07HvEkdo9K9Uw4ur8_L",
      "authorship_tag": "ABX9TyPeR8mACLx3weiE99GTwN0s",
      "include_colab_link": true
    },
    "kernelspec": {
      "name": "python3",
      "display_name": "Python 3"
    },
    "language_info": {
      "name": "python"
    }
  },
  "cells": [
    {
      "cell_type": "markdown",
      "metadata": {
        "id": "view-in-github",
        "colab_type": "text"
      },
      "source": [
        "<a href=\"https://colab.research.google.com/github/sgr1118/deep-learning-from-scratch-3/blob/main/%EC%A0%9C1%EA%B3%A0%EC%A7%80_%EB%AF%B8%EB%B6%84_%EC%9E%90%EB%8F%99_%EA%B3%84%EC%82%B0.ipynb\" target=\"_parent\"><img src=\"https://colab.research.google.com/assets/colab-badge.svg\" alt=\"Open In Colab\"/></a>"
      ]
    },
    {
      "cell_type": "markdown",
      "source": [
        "# 목표\n",
        "- 총 10단계로 구성된 미분을 자동으로 계산하는 틀을 만든다.\n",
        "- 이번 고지에서는 미분을 자동으로 계산하기 위해 '변수'와 '함수'를 표현하는 두 클래스 Vairable과 Function을 만든다."
      ],
      "metadata": {
        "id": "2X8DRQd9nyjD"
      }
    },
    {
      "cell_type": "markdown",
      "source": [
        "## 1단계 : 상자로서의 변수\n",
        "\n",
        "### 1.1 변수란\n",
        "- 데이터가 할당되어지는 것, 비유하자면 변수는 상자이고 데이터를 그 안에 넣는것이다.\n",
        "\n",
        "### 1.2 Variable 클래스 구현\n"
      ],
      "metadata": {
        "id": "3LRlU0E_oMlb"
      }
    },
    {
      "cell_type": "code",
      "execution_count": null,
      "metadata": {
        "id": "UkgUqNxDnATT"
      },
      "outputs": [],
      "source": [
        "class Variable:\n",
        "    def __init__(self, data): # __init__ 초기화 함수에 주어진 인수를 인스턴스 변수 data에 대입\n",
        "        self.data = data"
      ]
    },
    {
      "cell_type": "code",
      "source": [
        "import numpy as np\n",
        "\n",
        "data = np.array(1.0) # 넘파이의 다차원 배열 사용\n",
        "x = Variable(data)\n",
        "print(x.data)"
      ],
      "metadata": {
        "colab": {
          "base_uri": "https://localhost:8080/"
        },
        "id": "2o9rNABOpegS",
        "outputId": "c867cb4b-6fad-422f-d0e4-3dcedbef9f57"
      },
      "execution_count": null,
      "outputs": [
        {
          "output_type": "stream",
          "name": "stdout",
          "text": [
            "1.0\n"
          ]
        }
      ]
    },
    {
      "cell_type": "code",
      "source": [
        "x.data = np.array(2.0)\n",
        "print(x.data)"
      ],
      "metadata": {
        "colab": {
          "base_uri": "https://localhost:8080/"
        },
        "id": "PJNqzhrMp654",
        "outputId": "e049fc91-d944-4895-84fb-d0b065a91f39"
      },
      "execution_count": null,
      "outputs": [
        {
          "output_type": "stream",
          "name": "stdout",
          "text": [
            "2.0\n"
          ]
        }
      ]
    },
    {
      "cell_type": "markdown",
      "source": [
        "### 1.3 넘파이의 다차원 배열\n",
        "- 다차원 배열은 숫자 등의 원소가 일정하게 모여 있는 데이터 구조\n",
        "- 다차원 배열에서 우너소의 순서에는 방향이 있고, 이 방향을 차원(dimension) or 축(axis)이라고 한다.\n",
        "- 0차원 : 스칼라, 1차원 : 벡터, 2차원 : 행렬"
      ],
      "metadata": {
        "id": "EJsOS--sqIqE"
      }
    },
    {
      "cell_type": "code",
      "source": [
        "# 다차원 배열 예시\n",
        "import numpy as np\n",
        "\n",
        "x = np.array(1)\n",
        "print(x.ndim) # 결과는 스칼라\n",
        "\n",
        "y = np.array([1,2,3])\n",
        "print(y.ndim) # 결과는 벡터\n",
        "\n",
        "z = np.array([[1,2,3],\n",
        "             [4,5,6]])\n",
        "print(z.ndim) # 결과는 행렬"
      ],
      "metadata": {
        "colab": {
          "base_uri": "https://localhost:8080/"
        },
        "id": "zHbAtSfZqtxd",
        "outputId": "bade9608-7273-4dd7-87e1-41cb4f8f8fa9"
      },
      "execution_count": null,
      "outputs": [
        {
          "output_type": "stream",
          "name": "stdout",
          "text": [
            "0\n",
            "1\n",
            "2\n"
          ]
        }
      ]
    },
    {
      "cell_type": "markdown",
      "source": [
        "## 2단계 : 변수를 낳는 함수\n",
        "\n",
        "### 2.1 함수란\n",
        "- 변수 사이의 대응 관계를 정하는 역할을 함수라고 한다. 예시로 $f(x) - x^2$이고 $y = f(x)$라고 하면 변수 y와 x의 관계가 함수$f$에 의해 결정된다.\n",
        "\n",
        "### 2.2 Function 클래스 구현\n",
        "- Function 클래스는 Variable 인스턴스를 입력받아 Variable 인스터스를 출력\n",
        "- Variable 인스턴스의 실제 데이터는 인스턴스 변수인 data에 있다."
      ],
      "metadata": {
        "id": "I8X2Mx5zrg3W"
      }
    },
    {
      "cell_type": "code",
      "source": [
        "class Function:\n",
        "    def __call__(self, input): # __call__ 메서드의 인수 input은 Variable 인스턴스라고 가정\n",
        "        x = input.data # 데이터를 꺼낸다\n",
        "        y = x ** 2 # 실제 계산\n",
        "        output = Variable(y) # Variable 형태로 되돌림\n",
        "        return output"
      ],
      "metadata": {
        "id": "AZo1eQ-qshqO"
      },
      "execution_count": null,
      "outputs": []
    },
    {
      "cell_type": "markdown",
      "source": [
        "### 2.3 Function 클래스 이용"
      ],
      "metadata": {
        "id": "9W-LRmimtEjM"
      }
    },
    {
      "cell_type": "code",
      "source": [
        "x = Variable(np.array(10))\n",
        "f = Function()\n",
        "y = f(x)\n",
        "\n",
        "print(type(y))\n",
        "print(y.data)"
      ],
      "metadata": {
        "colab": {
          "base_uri": "https://localhost:8080/"
        },
        "id": "jcBWGGsHtHh2",
        "outputId": "9573698d-2404-4373-bb16-0b247ccc0a30"
      },
      "execution_count": null,
      "outputs": [
        {
          "output_type": "stream",
          "name": "stdout",
          "text": [
            "<class '__main__.Variable'>\n",
            "100\n"
          ]
        }
      ]
    },
    {
      "cell_type": "markdown",
      "source": [
        "- 현재 Function 클래스는 '입력값의 제곱'으로 고정된 함수이지만 모든 계산을 할 수 있어야하기에 forward 메서드를 사용할 거이다. 다음 두 가지 사항을 충족하도록 구현한다.\n",
        "\n",
        "- Function 클래스는 기반 클래스로서, 모든 함수에 공통되는 기능을 구현\n",
        "- 구체적인 함수는 Function 클래스를 상속한 클래스에서 구현"
      ],
      "metadata": {
        "id": "4HJC65VFtdOn"
      }
    },
    {
      "cell_type": "code",
      "source": [
        "# 수정\n",
        "class Function:\n",
        "    def __call__(self, input): # __call__ 메서드의 인수 input은 Variable 인스턴스라고 가정\n",
        "        x = input.data # 데이터를 꺼낸다\n",
        "        y = self.forward(x) # 구체적인 계산은 forward 메서드에서 한다.\n",
        "        output = Variable(y) # Variable 형태로 되돌림\n",
        "        return output\n",
        "\n",
        "    def forward(self, x):\n",
        "        raise NotImplementedError() \n",
        "\n",
        "# Function 클래스의 forward 메서드는 예외를 발생시킨다. 이렇게 해두면 Function 클래스의 forward 메서드를\n",
        "# 직접 호출한 사람에데 '이 메서드는 상속하여 구현해야 한다'는 사실을 알려줄 수 있다."
      ],
      "metadata": {
        "id": "RwDRIudqt6Wf"
      },
      "execution_count": null,
      "outputs": []
    },
    {
      "cell_type": "code",
      "source": [
        "class Square(Function):\n",
        "    def forward(self, x):\n",
        "        return x ** 2"
      ],
      "metadata": {
        "id": "PleRGD7mu89m"
      },
      "execution_count": null,
      "outputs": []
    },
    {
      "cell_type": "markdown",
      "source": [
        "- Square 클래스는 Function 클래스를 상속하기에 __call__ 메서드는 그대로 계승"
      ],
      "metadata": {
        "id": "2Luy5mzbvORj"
      }
    },
    {
      "cell_type": "code",
      "source": [
        "# 결과 확인\n",
        "\n",
        "x = Variable(np.array(10))\n",
        "f = Square()\n",
        "y = f(x)\n",
        "\n",
        "print(type(y))\n",
        "print(y.data)"
      ],
      "metadata": {
        "colab": {
          "base_uri": "https://localhost:8080/"
        },
        "id": "cJ7V8eUvvWA7",
        "outputId": "03e41cfd-17ed-48f4-f4c7-917f68136b24"
      },
      "execution_count": null,
      "outputs": [
        {
          "output_type": "stream",
          "name": "stdout",
          "text": [
            "<class '__main__.Variable'>\n",
            "100\n"
          ]
        }
      ]
    },
    {
      "cell_type": "markdown",
      "source": [
        "## 3단계 : 함수 연결\n",
        "\n",
        "### 3.1 Exp 함수 구현\n",
        "- $y = e^x$라는 오일러의 수 또는 네이피어 상수라고 불리는 것을 구현"
      ],
      "metadata": {
        "id": "DVk2mo4Ivjiz"
      }
    },
    {
      "cell_type": "code",
      "source": [
        "class Exp(Function):\n",
        "    def forward(self, x):\n",
        "        return np.exp(x) # 계산 값"
      ],
      "metadata": {
        "id": "4pq_KGuDv5e7"
      },
      "execution_count": null,
      "outputs": []
    },
    {
      "cell_type": "markdown",
      "source": [
        "### 3.2 함수 연결"
      ],
      "metadata": {
        "id": "j2oke1IewGNG"
      }
    },
    {
      "cell_type": "code",
      "source": [
        "A = Square()\n",
        "B = Exp()\n",
        "C = Square()\n",
        "\n",
        "x = Variable(np.array(0.5))\n",
        "a = A(x)\n",
        "b = B(a)\n",
        "y = C(b) # 3개의 함수를 연이어 동작하게 했다. 이처럼 여러 함수로 구성된 함수를 합성 함수라 한다.\n",
        "\n",
        "print(y.data)"
      ],
      "metadata": {
        "colab": {
          "base_uri": "https://localhost:8080/"
        },
        "id": "1VGvbGfFwJhL",
        "outputId": "6792ed07-ef8a-4926-ab22-eb96fd974d5f"
      },
      "execution_count": null,
      "outputs": [
        {
          "output_type": "stream",
          "name": "stdout",
          "text": [
            "1.648721270700128\n"
          ]
        }
      ]
    },
    {
      "cell_type": "markdown",
      "source": [
        "## 4단계 : 수치 미분\n",
        "\n",
        "### 4.1 미분이란\n",
        "$$f^\\prime (x) = lim_{h > 0} \\frac{f(x+h) - f(x)}{h}$$\n",
        "- '극한으로 짧은 시간(순간)'에서의 변화량이다.\n",
        "- $f^\\prime (x)도 함수이며 f(x)$의 도함수이다.\n",
        "\n",
        "### 4.2 수치 미분 구현\n",
        "- 컴퓨터는 극한을 취급할 수 없어서 h를 극한과 비슷한 값 h = 0.0001과 같은 매우 작은 값을 이용한다. 이런 미세한 차이를 이용하여 함수의 변화령을 구하는 방법을 수치 미분이라 한다."
      ],
      "metadata": {
        "id": "MKG-NF6Hw03h"
      }
    },
    {
      "cell_type": "code",
      "source": [
        "def numerical_diff(f, x, eps = 1e-4):\n",
        "    x0 = Variable(x.data - eps)\n",
        "    x1 = Variable(x.data + eps)\n",
        "    y0 = f(x0)\n",
        "    y1 = f(x1)\n",
        "    return (y1.data - y0.data) / (2 * eps) # 중앙 차분의 직선의 기울기"
      ],
      "metadata": {
        "id": "Ff2QEP0Wz3Md"
      },
      "execution_count": null,
      "outputs": []
    },
    {
      "cell_type": "code",
      "source": [
        "f = Square()\n",
        "x = Variable(np.array(2.0))\n",
        "dy = numerical_diff(f, x)\n",
        "print(dy) # 함수 y = x^2에서 x = 2.0일 때 수치 미분한 결과"
      ],
      "metadata": {
        "colab": {
          "base_uri": "https://localhost:8080/"
        },
        "id": "y59kT3d50bFV",
        "outputId": "73f33b35-1b7f-493c-c6c1-25db6df35cfb"
      },
      "execution_count": null,
      "outputs": [
        {
          "output_type": "stream",
          "name": "stdout",
          "text": [
            "4.000000000004\n"
          ]
        }
      ]
    },
    {
      "cell_type": "markdown",
      "source": [
        "### 4.3 함성 함수의 미분\n",
        "$y = ({e^{x}}^{2})^2$이라는 계산을 미분"
      ],
      "metadata": {
        "id": "XUy4vuHX0vjf"
      }
    },
    {
      "cell_type": "code",
      "source": [
        "def f(x):\n",
        "    A = Square()\n",
        "    B = Exp()\n",
        "    C = Square()\n",
        "    return C(B(A(x)))\n",
        "\n",
        "x = Variable(np.array(0.5))\n",
        "dy = numerical_diff(f, x)\n",
        "print(dy)"
      ],
      "metadata": {
        "colab": {
          "base_uri": "https://localhost:8080/"
        },
        "id": "iiFNbuAQ1rPm",
        "outputId": "cbc991c8-615d-4801-8847-00c60525e65d"
      },
      "execution_count": null,
      "outputs": [
        {
          "output_type": "stream",
          "name": "stdout",
          "text": [
            "3.2974426293330694\n"
          ]
        }
      ]
    },
    {
      "cell_type": "markdown",
      "source": [
        "### 4.4 수치 미분의 문제점\n",
        "- 수치 미분에는 오차가 포함된다. 어떤 계산이냐에 따라 커질 수도 작을 수도 있다.\n",
        "- 수치 미분의 더 심각한 문제는 계산량이 많다. 이런 문제를 해결하기 위해 역전파를 사용한다."
      ],
      "metadata": {
        "id": "sB1cDrWP2CxM"
      }
    },
    {
      "cell_type": "markdown",
      "source": [
        "## 5단계 : 역전파 이론\n",
        "\n",
        "### 5.1 연쇄 법칙\n",
        "- 역전파를 이해하기 위한 이론은 연쇄 법칙이다. 연쇄 법칙에 따르면 합성 함수의 미분은 구성 함수 각각을 미분한 후 곱한 것과 같다. 아래는 예시\n",
        "\n",
        "![](https://blog.kakaocdn.net/dn/9U9J5/btqIvDCbsVv/mS9ZrimZQoD2Ghzu85HIcK/img.png)\n",
        "<center>역전파 그림</center>\n",
        "\n",
        "- ML은 주로 대량의 매개변수를 입력받아서 마지막에 손실 함수를 거쳐 출력을 내는 형태로 진행됩니다. 손실 함수의 출력은 단일한 스칼라값이며, 이 값이 중요 요소 이다.\n",
        "- 즉 손실 함수의 각 매개변수에 대한 미분을 계산해야 한다.\n",
        "- 이런 경우 미분값을 출력에서 입력 방향으로 전파하면 한 번의 전파만으로 모든 매개변수에 대한 미분을 계산할 수 있다. 이처럼 효율적으로 이뤄지기 때문에 미분 역전파를 이용하는 것이다."
      ],
      "metadata": {
        "id": "3Vnh0CYk2iLR"
      }
    },
    {
      "cell_type": "markdown",
      "source": [
        "## 6단계 : 수동 역전파\n",
        "\n",
        "### 6.1 Variable 클래스 추가 구현"
      ],
      "metadata": {
        "id": "km6IrDcN81Jx"
      }
    },
    {
      "cell_type": "code",
      "source": [
        "class Variable():\n",
        "    def __init__(self, data):\n",
        "        self.data = data\n",
        "        self.grad = None # 미분값 저장"
      ],
      "metadata": {
        "id": "cBvdzCzY9ZA4"
      },
      "execution_count": null,
      "outputs": []
    },
    {
      "cell_type": "markdown",
      "source": [
        "## 6.2 Function 클래스 추가 구현\n",
        "- 이전 단계에서는 순전파 기능만 있었지만 아래 두 기능을 추가한다.\n",
        "- 미분을 계산하는 역전파 (backward 메서드), forward 메서드 호출 시 건네받은 Variable 인스턴스 유지"
      ],
      "metadata": {
        "id": "Gdsi5LSH9qFQ"
      }
    },
    {
      "cell_type": "code",
      "source": [
        "class Function:\n",
        "    def __call__(self, input): # __call__ 메서드의 인수 input은 Variable 인스턴스라고 가정\n",
        "        x = input.data # 데이터를 꺼낸다\n",
        "        y = self.forward(x) # 구체적인 계산은 forward 메서드에서 한다.\n",
        "        output = Variable(y) # Variable 형태로 되돌림\n",
        "        self.input = input # 입력 변수를 기억한다.\n",
        "        return output\n",
        "\n",
        "    def forward(self, x):\n",
        "        raise NotImplementedError() \n",
        "\n",
        "    def backward(self, gy):\n",
        "        raise NotImplementedError()"
      ],
      "metadata": {
        "id": "qbWySiMq99Gf"
      },
      "execution_count": null,
      "outputs": []
    },
    {
      "cell_type": "markdown",
      "source": [
        "### 6.3 Square와 Exp 클래스 추가 구현"
      ],
      "metadata": {
        "id": "29kzkpnw_tXn"
      }
    },
    {
      "cell_type": "code",
      "source": [
        "class Square(Function):\n",
        "    def forward(self, x):\n",
        "        y = x ** 2\n",
        "        return y\n",
        "\n",
        "    def backward(self, gy):\n",
        "        x = self.input.data\n",
        "        gx = 2 * x * gy # y = x^2의 미분은 2 * x\n",
        "        return gx"
      ],
      "metadata": {
        "id": "3yRdq1Hx_ynJ"
      },
      "execution_count": null,
      "outputs": []
    },
    {
      "cell_type": "code",
      "source": [
        "class Exp(Function):\n",
        "    def forward(self, x):\n",
        "        y = np.exp(x) # 계산 값\n",
        "        return y\n",
        "\n",
        "    def backward(self, gy):\n",
        "        x = self.input.data\n",
        "        gx = np.exp(x) * gy\n",
        "        return gx"
      ],
      "metadata": {
        "id": "fempHs0tAUPk"
      },
      "execution_count": null,
      "outputs": []
    },
    {
      "cell_type": "markdown",
      "source": [
        "### 6.4 역전파 구현"
      ],
      "metadata": {
        "id": "i1IZ1lw2Aqkl"
      }
    },
    {
      "cell_type": "code",
      "source": [
        "A = Square()\n",
        "B = Exp()\n",
        "C = Square()\n",
        "\n",
        "x = Variable(np.array(0.5))\n",
        "a = A(x)\n",
        "b = B(a)\n",
        "y = C(b)"
      ],
      "metadata": {
        "id": "z5KtIzTZAtwq"
      },
      "execution_count": null,
      "outputs": []
    },
    {
      "cell_type": "markdown",
      "source": [
        "- 이어서 역전파를 y로 미분한다."
      ],
      "metadata": {
        "id": "G3-MpUVIA32T"
      }
    },
    {
      "cell_type": "code",
      "source": [
        "y.grad = np.array(1.0) # 역전파는 dy/dy = 1에서 시작\n",
        "b.grad = C.backward(y.grad)\n",
        "a.grad = B.backward(b.grad)\n",
        "x.grad = A.backward(a.grad)\n",
        "print(x.grad) # 4단계 수치 미분에서 구한 값과 유사하다."
      ],
      "metadata": {
        "colab": {
          "base_uri": "https://localhost:8080/"
        },
        "id": "t-dJHoGCA9zc",
        "outputId": "cc138b2d-2502-44e6-f972-1b9e2e557374"
      },
      "execution_count": null,
      "outputs": [
        {
          "output_type": "stream",
          "name": "stdout",
          "text": [
            "3.297442541400256\n"
          ]
        }
      ]
    },
    {
      "cell_type": "markdown",
      "source": [
        "## 7단계 : 역전파 자동화\n",
        "- 역전파를 더 효율적으로 사용하기 위한 과정\n",
        "- 순전파를 한 번만 해주면 어떤 계산이라도 상관없이 역전파가 자동으로 이루어지는 구조를 만들 것이다. 이것을 Define-by-Run(동적 계산 그래프)라고 한다.\n",
        "\n",
        "### 7.1 역전파 자동화의 시작\n",
        "- 함수 관점에서 변수는 '입력'과 '출력'에 쓰인다. 즉 입력 변수와 출력 변수로서 존재\n",
        "- 변수 관점에서 변수는 함수에 의해 만들어진다. 즉 변수에게 있어 함수는 창조자이다."
      ],
      "metadata": {
        "id": "0CIhTq2qBZjY"
      }
    },
    {
      "cell_type": "code",
      "source": [
        "class Variable():\n",
        "    def __init__(self, data):\n",
        "        self.data = data\n",
        "        self.grad = None # 미분값 저장\n",
        "        self.creator = None # 인스턴스 변수 추가\n",
        "\n",
        "    def set_creator(self, func): # 메서드 추가\n",
        "        self.creator = func"
      ],
      "metadata": {
        "id": "grTGtnghEehC"
      },
      "execution_count": null,
      "outputs": []
    },
    {
      "cell_type": "code",
      "source": [
        "class Function:\n",
        "    def __call__(self, input): # __call__ 메서드의 인수 input은 Variable 인스턴스라고 가정\n",
        "        x = input.data # 데이터를 꺼낸다\n",
        "        y = self.forward(x) # 구체적인 계산은 forward 메서드에서 한다.\n",
        "        output = Variable(y) # Variable 형태로 되돌림\n",
        "        output.set_creator(self) # 출력 변수에 창조자를 설정\n",
        "        self.input = input # 입력 변수를 기억한다.\n",
        "        self.output = output # 출력 변수를 기억한다.\n",
        "        return output"
      ],
      "metadata": {
        "id": "bjt6bk_xEzqj"
      },
      "execution_count": null,
      "outputs": []
    },
    {
      "cell_type": "code",
      "source": [
        "A = Square()\n",
        "B = Exp()\n",
        "C = Square()\n",
        "\n",
        "x = Variable(np.array(0.5))\n",
        "a = A(x)\n",
        "b = B(a)\n",
        "y = C(b)\n",
        "\n",
        "# 계산 그래프의 노드들을 거꾸로 거슬러 올란다.\n",
        "assert y.creator == C\n",
        "assert y.creator.input == b\n",
        "assert y.creator.input.creator == B\n",
        "assert y.creator.input.creator.input == a\n",
        "assert y.creator.input.creator.input.creator == A\n",
        "assert y.creator.input.creator.input.creator.input == x\n",
        "\n",
        "# 노트북 환경에서는 실행되지않고 py로 실행 가능"
      ],
      "metadata": {
        "id": "48tE9Fs-FKGC"
      },
      "execution_count": null,
      "outputs": []
    },
    {
      "cell_type": "markdown",
      "source": [
        "- assert문이란 '주장하다'라는 의미로 주장에 해당하는 내용을 평가 후 True가 아니라면 예외가 발생한다. 따라서 assert문은 조건을 충족하는지 여부를 확인하는데 사용할 수 있다."
      ],
      "metadata": {
        "id": "eEjqVswwJ4Zq"
      }
    },
    {
      "cell_type": "markdown",
      "source": [
        "### 7.2 역전파 도전!"
      ],
      "metadata": {
        "id": "tuJ9Ijs-KZit"
      }
    },
    {
      "cell_type": "code",
      "source": [
        "!python step07.py # 역전파 py"
      ],
      "metadata": {
        "colab": {
          "base_uri": "https://localhost:8080/"
        },
        "id": "O-KrxmvvIBxg",
        "outputId": "c48bddd5-a8d7-40f9-a02a-f40cff976d5b"
      },
      "execution_count": null,
      "outputs": [
        {
          "output_type": "stream",
          "name": "stdout",
          "text": [
            "2.568050833375483\n"
          ]
        }
      ]
    },
    {
      "cell_type": "markdown",
      "source": [
        "### 7.3 backward 메서드 추가\n",
        "- 앞의 과정을 자동화하기 위해 Variable 클래스에 backward라는 메서드 추가"
      ],
      "metadata": {
        "id": "cC3Q213zM4T9"
      }
    },
    {
      "cell_type": "code",
      "source": [
        "!python step07.py # 역전파 자동화 py\n",
        "# 자세한 코드는 ch_1_py 참조"
      ],
      "metadata": {
        "colab": {
          "base_uri": "https://localhost:8080/"
        },
        "id": "U8GsS28mOCCw",
        "outputId": "3b98aed3-5a95-4b0d-8462-92f8c3475381"
      },
      "execution_count": null,
      "outputs": [
        {
          "output_type": "stream",
          "name": "stdout",
          "text": [
            "3.297442541400256\n"
          ]
        }
      ]
    },
    {
      "cell_type": "markdown",
      "source": [
        "## 8단계 : 재귀에서 반복문으로\n",
        "- 처리 효율을 개선하고 앞으로 확장을 대비해 backward 메서드의 구현 방식 변경\n",
        "\n",
        "### 8.1 현재의 Variable 클래스\n",
        "- step07의 backward 메서드에는 입력 방향으로 하나 앞 변수의 backward 메서드를 호출하는 코드이다. 반복적으로 backward 메서드를 호출하는 과정이 반복된다. 이를 재귀 구조라 한다.\n",
        "\n",
        "### 8.2 반복문을 이용한 구현\n",
        "- 재귀에서 반복문을 사용한 구현으로 변경한다."
      ],
      "metadata": {
        "id": "QpxdOCrcOGCC"
      }
    },
    {
      "cell_type": "code",
      "source": [
        "cd '/content/drive/MyDrive/Book/deeplearng_basic_3/ch_1_py'"
      ],
      "metadata": {
        "colab": {
          "base_uri": "https://localhost:8080/"
        },
        "id": "aED0oPwqQecG",
        "outputId": "3a5a9f6a-0fef-461c-ba19-49b8af5bea47"
      },
      "execution_count": null,
      "outputs": [
        {
          "output_type": "stream",
          "name": "stdout",
          "text": [
            "/content/drive/MyDrive/Book/deeplearng_basic_3/ch_1_py\n"
          ]
        }
      ]
    },
    {
      "cell_type": "code",
      "source": [
        "!python step08.py # 역전파 반복문 py\n",
        "# 자세한 코드는 ch_1_py 참조"
      ],
      "metadata": {
        "colab": {
          "base_uri": "https://localhost:8080/"
        },
        "id": "fQuibc6LRjSU",
        "outputId": "972cf75b-de6a-450b-80b6-ea0fbd1851b7"
      },
      "execution_count": null,
      "outputs": [
        {
          "output_type": "stream",
          "name": "stdout",
          "text": [
            "3.297442541400256\n"
          ]
        }
      ]
    },
    {
      "cell_type": "markdown",
      "source": [
        "- 복잡한 계산 그래프를 다룰 때 이런 방법이 처리 효율을 개선 할 수 있다."
      ],
      "metadata": {
        "id": "dCxclrZLRqGl"
      }
    },
    {
      "cell_type": "markdown",
      "source": [
        "## 9단계 : 함수를 더 편리하게\n",
        "- 앞서 코드에 세 가지 개선을 추가하자\n",
        "\n",
        "### 9.1 파이썬 함수로 이용하기\n",
        "- 지금까지는 함수를 '파이썬 클래스'로 정의해서 사용했다. Sequare 클래스를 사용하려면 아래와 같이 작성해야했다.\n",
        "- 번거로운 과정이기에 '파이썬 함수'를 지원하는 형태로 변경"
      ],
      "metadata": {
        "id": "mPrA6oUeSahH"
      }
    },
    {
      "cell_type": "code",
      "source": [
        "x = Variable(np.array(0.5))\n",
        "f = Square()\n",
        "y = f(x)"
      ],
      "metadata": {
        "id": "rEiOM2voS2qh"
      },
      "execution_count": null,
      "outputs": []
    },
    {
      "cell_type": "code",
      "source": [
        "# step09에 추가되는 코드\n",
        "def square(x):\n",
        "    f = Square()\n",
        "    return f(x)\n",
        "\n",
        "def exp(x):\n",
        "    f = Exp()\n",
        "    return f(x)\n",
        "\n",
        "# 간소화\n",
        "def square(x):\n",
        "    return Square()(x)\n",
        "\n",
        "def exp(x):\n",
        "    return Exp()(x)"
      ],
      "metadata": {
        "id": "F8iXaDDITufB"
      },
      "execution_count": null,
      "outputs": []
    },
    {
      "cell_type": "code",
      "source": [
        "!python step09.py # 역전파 반복문 파이썬 함수 이용 py\n",
        "# 자세한 코드는 ch_1_py 참조"
      ],
      "metadata": {
        "colab": {
          "base_uri": "https://localhost:8080/"
        },
        "id": "Z7i2x9iWUng1",
        "outputId": "9104e7e2-c52a-443e-fa8f-3d7eeec364f1"
      },
      "execution_count": null,
      "outputs": [
        {
          "output_type": "stream",
          "name": "stdout",
          "text": [
            "3.297442541400256\n"
          ]
        }
      ]
    },
    {
      "cell_type": "markdown",
      "source": [
        "### 9.2 backward 메서드 간소화\n",
        "- 두 번째 개선은 y.grad = np.array(1.0) 부분을 생략"
      ],
      "metadata": {
        "id": "3_EoZrxsUwKA"
      }
    },
    {
      "cell_type": "code",
      "source": [
        "# step09에 추가되는 코드\n",
        "\n",
        "def backward(self):\n",
        "    if self.grad is None:\n",
        "        self.grad = np.ones_like(self.data) # self.data와 형상과\n",
        "            # 데이터 터입이 같은 ndarray 인스턴스 생성"
      ],
      "metadata": {
        "id": "AmuV82fbVm6w"
      },
      "execution_count": null,
      "outputs": []
    },
    {
      "cell_type": "code",
      "source": [
        "!python step09.py # 역전파 반복문 backward 간소화 py\n",
        "# 자세한 코드는 ch_1_py 참조"
      ],
      "metadata": {
        "colab": {
          "base_uri": "https://localhost:8080/"
        },
        "id": "0GBuCikHVx3u",
        "outputId": "81076028-a876-467f-99b3-6eb1c290fd3b"
      },
      "execution_count": null,
      "outputs": [
        {
          "output_type": "stream",
          "name": "stdout",
          "text": [
            "3.297442541400256\n"
          ]
        }
      ]
    },
    {
      "cell_type": "markdown",
      "source": [
        "### 9.3 ndarray만 취급하기\n",
        "- Variable은 데이터를 ndarray만 취급하게하였다. 하지만 실수로 float, int를 사용하는 경우도 있으니 Variable 초기화 부분에 아래 코드를 추가한다."
      ],
      "metadata": {
        "id": "-ZPH32waW8aF"
      }
    },
    {
      "cell_type": "code",
      "source": [
        "class Variable:\n",
        "    def __init__(self, data):\n",
        "        if data is not None:\n",
        "            if not isinstance(data, np.ndarray):\n",
        "                raise TypeError('{}은(는) 지원하지 않습니다.'.format(type(data)))"
      ],
      "metadata": {
        "id": "_lFEYyPtYPMk"
      },
      "execution_count": null,
      "outputs": []
    },
    {
      "cell_type": "code",
      "source": [
        "!python step09.py # 역전파 반복문 ndarray만 취급 py\n",
        "# 자세한 코드는 ch_1_py 참조"
      ],
      "metadata": {
        "colab": {
          "base_uri": "https://localhost:8080/"
        },
        "id": "x7-hh4CbY7Bm",
        "outputId": "c6bbcbd6-d134-497e-dd1f-a3b35fd10011"
      },
      "execution_count": null,
      "outputs": [
        {
          "output_type": "stream",
          "name": "stdout",
          "text": [
            "Traceback (most recent call last):\n",
            "  File \"/content/drive/MyDrive/Book/deeplearng_basic_3/ch_1_py/step09.py\", line 78, in <module>\n",
            "    y = square(exp(square(x))) # 연속하여 적용\n",
            "  File \"/content/drive/MyDrive/Book/deeplearng_basic_3/ch_1_py/step09.py\", line 68, in square\n",
            "    return Square()(x)\n",
            "  File \"/content/drive/MyDrive/Book/deeplearng_basic_3/ch_1_py/step09.py\", line 40, in __call__\n",
            "    output = Variable(y) # Variable 형태로 되돌림\n",
            "  File \"/content/drive/MyDrive/Book/deeplearng_basic_3/ch_1_py/step09.py\", line 15, in __init__\n",
            "    raise TypeError('{}은(는) 지원하지 않습니다.'.format(type(data)))\n",
            "TypeError: <class 'numpy.float64'>은(는) 지원하지 않습니다.\n"
          ]
        }
      ]
    },
    {
      "cell_type": "markdown",
      "source": [
        "- 이렇게 수정하면 주의해야 할 사항 예시는 아래와 같다.\n",
        "- x는 0차원의 ndarray인데, 제곱을 하면 float64가 된다. 다시말하면 DeZero 함수의 게산 결과도 float64, 32가 되는 경우가 발생한다. 이것은 대처가 필요합니다."
      ],
      "metadata": {
        "id": "-KSvEbKHZOYI"
      }
    },
    {
      "cell_type": "code",
      "source": [
        "x = np.array(1.0) # 0차원의 ndarray\n",
        "y = x ** 2\n",
        "print(type(x), x.ndim)\n",
        "print(type(y))"
      ],
      "metadata": {
        "colab": {
          "base_uri": "https://localhost:8080/"
        },
        "id": "JbZlbkS7ZMqc",
        "outputId": "0f892ad3-fd38-4d0b-f5e5-862fb7a7b12b"
      },
      "execution_count": null,
      "outputs": [
        {
          "output_type": "stream",
          "name": "stdout",
          "text": [
            "<class 'numpy.ndarray'> 0\n",
            "<class 'numpy.float64'>\n"
          ]
        }
      ]
    },
    {
      "cell_type": "code",
      "source": [
        "# 문제를 해결할 편의 함수\n",
        "def as_array(x):\n",
        "    if np.isscalar(x): # 입력데이터 형태 확인\n",
        "        return np.array(x)\n",
        "    return x\n",
        "\n",
        "# 함수 추가후 Function 코드 추가\n",
        "\n",
        "class Function:\n",
        "    def __call__(self, input): # __call__ 메서드의 인수 input은 Variable 인스턴스라고 가정\n",
        "        x = input.data # 데이터를 꺼낸다\n",
        "        y = self.forward(x) # 구체적인 계산은 forward 메서드에서 한다.\n",
        "        output = Variable(as_array(y)) # 입력이 스칼라인 경우 ndarray로 변환\n",
        "        output.set_creator(self) # 출력 변수에 창조자를 설정\n",
        "        self.input = input # 입력 변수를 기억한다.\n",
        "        self.output = output # 출력 변수를 기억한다.\n",
        "        return output"
      ],
      "metadata": {
        "id": "GdKMDKBAZzow"
      },
      "execution_count": null,
      "outputs": []
    },
    {
      "cell_type": "code",
      "source": [
        "!python step09.py # 역전파 반복문 ndarray만 취급 py\n",
        "# 자세한 코드는 ch_1_py 참조"
      ],
      "metadata": {
        "colab": {
          "base_uri": "https://localhost:8080/"
        },
        "id": "S-WvJT0tawgm",
        "outputId": "f90b483e-5e62-466e-c161-53e301171145"
      },
      "execution_count": null,
      "outputs": [
        {
          "output_type": "stream",
          "name": "stdout",
          "text": [
            "3.297442541400256\n"
          ]
        }
      ]
    },
    {
      "cell_type": "markdown",
      "source": [
        "## 10단계 : 테스트\n",
        "- 이번 단계에서는 테스트 방법 특히 딥러닝 프레임워크의 테스트 방법에 대해 알아본다.\n",
        "\n",
        "### 10.1 파이썬 단위 테스트\n",
        "- 파이썬으로 테스트할 때는 표준 라이브러리에 포함된 unittest를 사용\n",
        "- square 함수를 테스트해보기"
      ],
      "metadata": {
        "id": "mSveqLIua3ym"
      }
    },
    {
      "cell_type": "code",
      "source": [
        "# 추가되어지는 코드\n",
        "\n",
        "import unittest\n",
        "\n",
        "class SquareTest(unittest.TestCase):\n",
        "    def test_forward(self):\n",
        "        x = Variable(np.array(2.0))\n",
        "        y = square(x)\n",
        "        expected = np.array(4.0)\n",
        "        self.assertEqual(y.data, expected) # 주어진 두 객체가 동일한지 여부 판정"
      ],
      "metadata": {
        "id": "DeaDldJuA2Kg"
      },
      "execution_count": null,
      "outputs": []
    },
    {
      "cell_type": "code",
      "source": [
        "!python -m unittest step10.py\n",
        "\n",
        "# 1개의 테스트가 수행되었고 결과는 성공"
      ],
      "metadata": {
        "colab": {
          "base_uri": "https://localhost:8080/"
        },
        "id": "WR3n0tLgC0aj",
        "outputId": "89486e06-8994-40f2-a42a-a1833185d46d"
      },
      "execution_count": null,
      "outputs": [
        {
          "output_type": "stream",
          "name": "stdout",
          "text": [
            ".\n",
            "----------------------------------------------------------------------\n",
            "Ran 1 test in 0.000s\n",
            "\n",
            "OK\n"
          ]
        }
      ]
    },
    {
      "cell_type": "markdown",
      "source": [
        "### 10.2 square 함수의 역전파 테스트"
      ],
      "metadata": {
        "id": "-5th-SdqDCdq"
      }
    },
    {
      "cell_type": "code",
      "source": [
        "# 추가된 코드\n",
        "class SquareTest(unittest.TestCase):\n",
        "    def test_backward(self):\n",
        "        x = Variable(np.array(3.0))\n",
        "        y = square(x)\n",
        "        y.backward()\n",
        "        expected = np.array(6.0)\n",
        "        self.assertEqual(x.grad, expected)"
      ],
      "metadata": {
        "id": "XgjWKmkBDxYy"
      },
      "execution_count": null,
      "outputs": []
    },
    {
      "cell_type": "code",
      "source": [
        "!python -m unittest step10.py\n",
        "\n",
        "# 마찬가지로 2개의 테스트가 수행되고 성공하였다."
      ],
      "metadata": {
        "colab": {
          "base_uri": "https://localhost:8080/"
        },
        "id": "1HD_BpMxENmM",
        "outputId": "0d9ddd39-5fbe-46c1-dda3-75a789e6004b"
      },
      "execution_count": null,
      "outputs": [
        {
          "output_type": "stream",
          "name": "stdout",
          "text": [
            "..\n",
            "----------------------------------------------------------------------\n",
            "Ran 2 tests in 0.000s\n",
            "\n",
            "OK\n"
          ]
        }
      ]
    },
    {
      "cell_type": "markdown",
      "source": [
        "### 10.3 기울기 확인을 이용한 자동 테스트\n",
        "- 앞에서 역전파 테스트를 작성하며 미분의 기댓값을 손으로 계산해 입력하였다. 이 부분을 기울기 확인을 통하여 자동화할 수 있다.\n",
        "- 기울기 확인이란, 수치 미분으로 구현 결과와 역전파로 구한 결과를 비교하여 그 차이가 크면 역전파 구현에 문제가 있다고 판단하는 검증 기법\n",
        "- 기울기 확인은 입력값만 있으면 테스트가 가능하기에 효율을 높여준다."
      ],
      "metadata": {
        "id": "N3VW0Qo6EXtd"
      }
    },
    {
      "cell_type": "code",
      "source": [
        "# 추가된 코드\n",
        "class SquareTest(unittest.TestCase):\n",
        "    def test_gradient_check(self):\n",
        "        x = Variable(np.random.rand(1)) # 무작위 입력값 생성\n",
        "        y = square(x)\n",
        "        y.backward()\n",
        "        num_grad = numerical_diff(square, x) # 수치 미분 계산\n",
        "        flg = np.allclose(x.grad, num_grad) # 각각 구한 값들이 일치하는지 확인\n",
        "        self.assertTrue(flg)"
      ],
      "metadata": {
        "id": "WrcbMcj1E8IW"
      },
      "execution_count": null,
      "outputs": []
    },
    {
      "cell_type": "code",
      "source": [
        "!python -m unittest step10.py\n",
        "\n",
        "# 마찬가지로 3개의 테스트가 수행되고 성공하였다."
      ],
      "metadata": {
        "colab": {
          "base_uri": "https://localhost:8080/"
        },
        "id": "OeekqEkrF5GY",
        "outputId": "891f8d47-2c54-4cde-ed48-9b6e7ebb3862"
      },
      "execution_count": null,
      "outputs": [
        {
          "output_type": "stream",
          "name": "stdout",
          "text": [
            "...\n",
            "----------------------------------------------------------------------\n",
            "Ran 3 tests in 0.001s\n",
            "\n",
            "OK\n"
          ]
        }
      ]
    }
  ]
}