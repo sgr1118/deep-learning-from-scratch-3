{
  "nbformat": 4,
  "nbformat_minor": 0,
  "metadata": {
    "colab": {
      "provenance": [],
      "mount_file_id": "1gUQ5b9_chSYdopEJW52GXbnbFPBuTXU6",
      "authorship_tag": "ABX9TyPIBEtdcEaQ4kquQtv/J82W",
      "include_colab_link": true
    },
    "kernelspec": {
      "name": "python3",
      "display_name": "Python 3"
    },
    "language_info": {
      "name": "python"
    }
  },
  "cells": [
    {
      "cell_type": "markdown",
      "metadata": {
        "id": "view-in-github",
        "colab_type": "text"
      },
      "source": [
        "<a href=\"https://colab.research.google.com/github/sgr1118/deep-learning-from-scratch-3/blob/main/%EC%A0%9C2%EA%B3%A0%EC%A7%80_%EC%9E%90%EC%97%B0%EC%8A%A4%EB%9F%AC%EC%9A%B4_%EC%BD%94%EB%93%9C%EB%A1%9C.ipynb\" target=\"_parent\"><img src=\"https://colab.research.google.com/assets/colab-badge.svg\" alt=\"Open In Colab\"/></a>"
      ]
    },
    {
      "cell_type": "markdown",
      "source": [
        "# 목표\n",
        "- 더 복잡한 계산을 수행하는 DeZero 확장\n",
        "- DeZero 파이썬 패키지로 묶어주기"
      ],
      "metadata": {
        "id": "BRytXo6PIj2b"
      }
    },
    {
      "cell_type": "markdown",
      "source": [
        "## 11단계 : 가변 길이 인수(순전파 편)\n",
        "- 함수는 한 개의 변수가 아닌 여러개의 변수를 입력받기도 한다.\n",
        "- 가변 길이는 인수(또는 반환값)의 수가 달라질 수 있다는 것\n",
        "\n",
        "### 11.1 Function 클래스 수정\n",
        "- 가변 길이 입출력을 표현하려면 변수들을 리스트 또는 튜플을 넣어 처리하는 것이 편하다.\n",
        "- __call__ 메서드의 인수와 반환값을 리스트로 바꿔본다."
      ],
      "metadata": {
        "id": "QISp8A1CJdU8"
      }
    },
    {
      "cell_type": "code",
      "execution_count": 1,
      "metadata": {
        "id": "rgpDXp5lIWyr"
      },
      "outputs": [],
      "source": [
        "# 추가되어진 코드\n",
        "class Funtion:\n",
        "    def __call__(self, inputs):\n",
        "        xs = [x.data for x in inputs] # input을 리스트로\n",
        "        ys = self.forward(xs)\n",
        "        outputs = [Variable(as_array(y)) for y in ys] # output을 리스트로\n",
        "\n",
        "        for output in outputs:\n",
        "            output.set_creator(self)\n",
        "        self.inputs = inputs\n",
        "        self.outputs = outputs\n",
        "        return outputs"
      ]
    },
    {
      "cell_type": "markdown",
      "source": [
        "### 11.2 Add 클래스 구현\n",
        "- Add 클래스를 구현한다. 다만 인수와 반환값이 리스트 또는 튜플이여야한다.\n",
        "- 아래 코드는 더 자연스럽게 개선이 필요하다."
      ],
      "metadata": {
        "id": "tQGG9BwQMM7w"
      }
    },
    {
      "cell_type": "code",
      "source": [
        "# 추가 코드\n",
        "class Add(Function):\n",
        "    def forward(self, xs):\n",
        "        x0, x1 = xs\n",
        "        y = x0 + x1\n",
        "        return (y,) # 튜플 형태 반환값, 값이 하나 생략되어도 문제 없다.\n",
        "\n",
        "xs = [Variable(np.array(2)), Variable(np.array(3))]\n",
        "f = Add()\n",
        "ys = f(xs)\n",
        "y = ys[0]\n",
        "print(y.data)"
      ],
      "metadata": {
        "id": "16VKU1qAL3Bi"
      },
      "execution_count": null,
      "outputs": []
    },
    {
      "cell_type": "code",
      "source": [
        "cd '/content/drive/MyDrive/Book/deeplearng_basic_3/ch_2_py'"
      ],
      "metadata": {
        "colab": {
          "base_uri": "https://localhost:8080/"
        },
        "id": "H-cGKe4wNE6d",
        "outputId": "ce0f44bf-fe7a-4c1c-fe36-6e7cc7c2673a"
      },
      "execution_count": 2,
      "outputs": [
        {
          "output_type": "stream",
          "name": "stdout",
          "text": [
            "/content/drive/MyDrive/Book/deeplearng_basic_3/ch_2_py\n"
          ]
        }
      ]
    },
    {
      "cell_type": "code",
      "source": [
        "!python step11.py"
      ],
      "metadata": {
        "colab": {
          "base_uri": "https://localhost:8080/"
        },
        "id": "jwnhsqd_NJNT",
        "outputId": "b60543f8-94d4-4679-c069-aa6f2c4e89e4"
      },
      "execution_count": 4,
      "outputs": [
        {
          "output_type": "stream",
          "name": "stdout",
          "text": [
            "5\n"
          ]
        }
      ]
    },
    {
      "cell_type": "markdown",
      "source": [
        "## 12단계 : 가변 길이 인수(개선 편)\n",
        "- Add 클래스를 이용하는 사람을 위한 개선\n",
        "- 구현하는 사람을 위한 개선\n",
        "\n",
        "### 12.1 첫 번째 개선 : 함수를 사용하기 쉽게\n",
        "- 기존 클래스는 인수를 리스트에 모아서 전달받지만 개선하면 이 같은 과정을 거치지 않아도된다."
      ],
      "metadata": {
        "id": "173hu41DNjEN"
      }
    },
    {
      "cell_type": "code",
      "source": [
        "# 추가 코드\n",
        "class Function:\n",
        "    def __call__(self, *inputs): # 임의 개수의 인수(가변 길이 인수)를 건네 함수를 호출할 수 있다.\n",
        "        xs = [x.data for x in inputs] # input을 리스트로\n",
        "        ys = self.forward(xs)\n",
        "        outputs = [Variable(as_array(y)) for y in ys] # output을 리스트로\n",
        "\n",
        "        for output in outputs:\n",
        "            output.set_creator(self)\n",
        "        self.inputs = inputs\n",
        "        self.outputs = outputs\n",
        "\n",
        "        # 리스트의 원소가 하나라면 첫 번째 원소를 반환한다.\n",
        "        return outputs if len(outputs) > 1 else outputs[0]"
      ],
      "metadata": {
        "id": "b7xQzSYpOiUG"
      },
      "execution_count": 14,
      "outputs": []
    },
    {
      "cell_type": "code",
      "source": [
        "!python step12.py"
      ],
      "metadata": {
        "colab": {
          "base_uri": "https://localhost:8080/"
        },
        "id": "ubFjd1PUQsUL",
        "outputId": "afc57783-ebc0-48b3-e98d-625fa0dade4c"
      },
      "execution_count": 17,
      "outputs": [
        {
          "output_type": "stream",
          "name": "stdout",
          "text": [
            "5\n"
          ]
        }
      ]
    },
    {
      "cell_type": "markdown",
      "source": [
        "### 12.2 두 번째 개선: 함수를 구현하기 쉽도록\n",
        "- 기존 Add 클래스는 인수는 리스트로 전달되고 결과는 튜플로 반환했다.\n",
        "- 개선하면 입력, 변수를 직접 받고 결과도 변수를 직접 돌려준다."
      ],
      "metadata": {
        "id": "VwFsDP1XRrvY"
      }
    },
    {
      "cell_type": "code",
      "source": [
        "# 추가 코드\n",
        "class Function:\n",
        "    def __call__(self, *inputs): # 임의 개수의 인수(가변 길이 인수)를 건네 함수를 호출할 수 있다.\n",
        "        xs = [x.data for x in inputs] # input을 리스트로\n",
        "        ys = self.forward(*xs) # 언팩\n",
        "        if not isinstance(ys, tuple): # 튜플이 아닌 경우 튜플로 변경\n",
        "            ys = (ys,)\n",
        "        outputs = [Variable(as_array(y)) for y in ys] # output을 리스트로\n",
        "\n",
        "        for output in outputs:\n",
        "            output.set_creator(self)\n",
        "        self.inputs = inputs\n",
        "        self.outputs = outputs\n",
        "\n",
        "        # 리스트의 원소가 하나라면 첫 번째 원소를 반환한다.\n",
        "        return outputs if len(outputs) > 1 else outputs[0]"
      ],
      "metadata": {
        "id": "Eow40uecSAW-"
      },
      "execution_count": null,
      "outputs": []
    },
    {
      "cell_type": "code",
      "source": [
        "!python step12.py"
      ],
      "metadata": {
        "colab": {
          "base_uri": "https://localhost:8080/"
        },
        "id": "VvAuIhoKSsAa",
        "outputId": "13fd609f-f886-4dd2-d2b5-03bf7a42e59f"
      },
      "execution_count": 18,
      "outputs": [
        {
          "output_type": "stream",
          "name": "stdout",
          "text": [
            "5\n"
          ]
        }
      ]
    },
    {
      "cell_type": "markdown",
      "source": [
        "### 12.3 add 함수 구현\n",
        "- 마지막으로 Add 클래스를 '파이썬 함수'로 사용할 수 있는 코드 추가"
      ],
      "metadata": {
        "id": "S-l5-nVtStp8"
      }
    },
    {
      "cell_type": "code",
      "source": [
        "# 추가 코드\n",
        "def add(x0, x1):\n",
        "    return Add()(x0, x1)"
      ],
      "metadata": {
        "id": "SFwgqd3yS2AT"
      },
      "execution_count": null,
      "outputs": []
    },
    {
      "cell_type": "code",
      "source": [
        "!python step12.py"
      ],
      "metadata": {
        "colab": {
          "base_uri": "https://localhost:8080/"
        },
        "id": "VUAzC1FzTCjy",
        "outputId": "0951d316-00f7-4547-b60b-f10960c63594"
      },
      "execution_count": 20,
      "outputs": [
        {
          "output_type": "stream",
          "name": "stdout",
          "text": [
            "5\n"
          ]
        }
      ]
    },
    {
      "cell_type": "markdown",
      "source": [
        "## 13단계 : 가변 길이 인수(역전파 편)\n",
        "\n",
        "### 13.1 가변 길이 인수에 대응한 Add 클래스의 역전파\n",
        "- 상류에서 온 미분값을 '그대로 흘려보내는 것'이 덧셈의 역전파이다."
      ],
      "metadata": {
        "id": "IwFLgzjFTQP5"
      }
    },
    {
      "cell_type": "code",
      "source": [
        "# 추가 코드\n",
        "class Add(Function):\n",
        "    def forward(self, x0, x1):\n",
        "        y = x0 + x1\n",
        "        return y\n",
        "\n",
        "    def backward(self, gy): # 입력이 1개, 출력이 2개\n",
        "        return gy, gy"
      ],
      "metadata": {
        "id": "KxH8NGXtVnbw"
      },
      "execution_count": null,
      "outputs": []
    },
    {
      "cell_type": "markdown",
      "source": [
        "### 13.2 Variable 클래스 수정\n",
        "- 앞서 Variable 클래스는 함수의 입출력이 하나라고 가정했으나 이 부분을 여러 개의 변수가 대응할 수 있도록 수정"
      ],
      "metadata": {
        "id": "qOTNKb4UWGMs"
      }
    },
    {
      "cell_type": "code",
      "source": [
        "# 추가 코드\n",
        "def backward(self):\n",
        "        if self.grad is None:\n",
        "            self.grad = np.ones_like(self.data) # self.data와 형상과\n",
        "            # 데이터 터입이 같은 ndarray 인스턴스 생성\n",
        "        funcs = [self.creator]\n",
        "        while funcs:\n",
        "            f = funcs.pop() # 1. 함수를 가져온다.\n",
        "            gys = [output.grad for output in f.outputs] # 출력 변수(미분값)을 리스트에 담는다.\n",
        "            gxs = f.backward(*gys) # 역전파 호출 : 리스트 언팩\n",
        "            if not isinstance(gxs, tuple): # 튜플이 아닌 경우 튜플로 변경\n",
        "                gxs = (gxs, )\n",
        "            for x, gx in zip(f.inputs, gxs): # 모든 Variable 인스턴스 각각에 알맞은 미분값을 설정\n",
        "                x.grad = gx\n",
        "\n",
        "                if x.creator is not None:\n",
        "                    funcs.append(x.creator)"
      ],
      "metadata": {
        "id": "ZBXuaL2mWYwi"
      },
      "execution_count": null,
      "outputs": []
    },
    {
      "cell_type": "markdown",
      "source": [
        "### 13.3 Square 클래스 구현\n",
        "- Square 클래스또한 새로운 Variable과 Function에 맞게 수정할 필요가 있다."
      ],
      "metadata": {
        "id": "KPZuIKYrXvnd"
      }
    },
    {
      "cell_type": "code",
      "source": [
        "# 추가 코드\n",
        "\n",
        "class Square(Function):\n",
        "    def forward(self, x):\n",
        "        y = x ** 2\n",
        "        return y\n",
        "\n",
        "    def backward(self, gy):\n",
        "        x = self.inputs[0].data # 복수형 inputs로 변경\n",
        "        gx = 2 * x * gy\n",
        "        return gx\n",
        "\n",
        "    def squqre(x):\n",
        "        f = Square()\n",
        "        return f(x)"
      ],
      "metadata": {
        "id": "ZRwFSzX1fDU6"
      },
      "execution_count": null,
      "outputs": []
    },
    {
      "cell_type": "code",
      "source": [
        "!python step13.py"
      ],
      "metadata": {
        "colab": {
          "base_uri": "https://localhost:8080/"
        },
        "id": "6hR5HIeZgDLL",
        "outputId": "856dbc12-f5db-4055-8987-5cb605767378"
      },
      "execution_count": 23,
      "outputs": [
        {
          "output_type": "stream",
          "name": "stdout",
          "text": [
            "13.0\n",
            "4.0\n",
            "6.0\n"
          ]
        }
      ]
    },
    {
      "cell_type": "markdown",
      "source": [
        "- $z = x^2 + y^2$이라는 계산을 z = add(square(x), square(y))라는 코드로 풀어냈다. 그런 다음 z.backward()를 호출하면 미분 계산이 자동으로 이루어진다."
      ],
      "metadata": {
        "id": "-HGayCtOgR-n"
      }
    },
    {
      "cell_type": "markdown",
      "source": [
        "## 14단계: 같은 변수 반복 사용\n",
        "- 현재까지 코드에서 같은 변수를 반복 사용하면 의도대로 동작하지 않을 수 있다는 문제가 있다.\n",
        "- 동일한 변수를 사용하면 덧셈을 제대로 미분할 수 없다.\n",
        "\n",
        "### 14.1 문제의 원인\n",
        "- step13.py에서 Variable 클래스에 문제가 있다. 현재는 전해지는 미분값을 그대로 대입하고 있다. 즉 같은 변수를 반복해서 사용하면 미분값이 덮어 씌여진다.\n",
        "- 해결하기 위해 전파되는 미분값의 '합'이 필요하다.\n",
        "\n",
        "### 14.2 해결책\n",
        "- 미분값의 '합'을 구하는 코드 구현"
      ],
      "metadata": {
        "id": "FTKER1Rogn6g"
      }
    },
    {
      "cell_type": "code",
      "source": [
        "# 코드 수정\n",
        "\n",
        "class Variable():\n",
        "    def __init__(self, data):\n",
        "        if data is not None:\n",
        "            if not isinstance(data, np.ndarray):\n",
        "                raise TypeError('{}은(는) 지원하지 않습니다.'.format(type(data)))\n",
        "        self.data = data\n",
        "        self.grad = None # 미분값 저장\n",
        "        self.creator = None # 인스턴스 변수 추가\n",
        "\n",
        "    def set_creator(self, func): # 메서드 추가\n",
        "        self.creator = func\n",
        "\n",
        "    def backward(self):\n",
        "        if self.grad is None:\n",
        "            self.grad = np.ones_like(self.data) # self.data와 형상과\n",
        "            # 데이터 터입이 같은 ndarray 인스턴스 생성\n",
        "        funcs = [self.creator]\n",
        "        while funcs:\n",
        "            f = funcs.pop() # 1. 함수를 가져온다.\n",
        "            gys = [output.grad for output in f.outputs] # 출력 변수(미분값)을 리스트에 담는다.\n",
        "            gxs = f.backward(*gys) # 역전파 호출 : 리스트 언팩\n",
        "            if not isinstance(gxs, tuple): # 튜플이 아닌 경우 튜플로 변경\n",
        "                gxs = (gxs, )\n",
        "            for x, gx in zip(f.inputs, gxs): # 모든 Variable 인스턴스 각각에 알맞은 미분값을 설정\n",
        "                if x.grad is None:\n",
        "                    x.grad = gx\n",
        "                else:\n",
        "                    x.grad = x.grad + gx \n",
        "\n",
        "                if x.creator is not None:\n",
        "                    funcs.append(x.creator)"
      ],
      "metadata": {
        "id": "x4vNLeGLg7nV"
      },
      "execution_count": null,
      "outputs": []
    },
    {
      "cell_type": "code",
      "source": [
        "!python step14.py"
      ],
      "metadata": {
        "colab": {
          "base_uri": "https://localhost:8080/"
        },
        "id": "oHfAW8j8jZ5q",
        "outputId": "18b2ed44-1e67-4d9a-d453-ac59114a00a9"
      },
      "execution_count": 26,
      "outputs": [
        {
          "output_type": "stream",
          "name": "stdout",
          "text": [
            "2.0\n",
            "3.0\n"
          ]
        }
      ]
    },
    {
      "cell_type": "markdown",
      "source": [
        "### 14.3 미분값 재설정\n",
        "- 문제가 해결된 듯 보이지만 또 다른 문제가 있다. 같은 변수를 사용하여 '다른' 계산을 할 경우 계산이 꼬이는 문제이다.\n",
        "- 인스턴스를 재사용하는 바람에 두 번째 계산 값에 첫 번째 미분 값이 더해지고 말았다.\n",
        "- 해결하기 위해 Variable 클래스에 미분값을 초기화하는 cleargead 메서드 추가"
      ],
      "metadata": {
        "id": "MbBCK7ufjq2e"
      }
    },
    {
      "cell_type": "code",
      "source": [
        "!python step14.py"
      ],
      "metadata": {
        "colab": {
          "base_uri": "https://localhost:8080/"
        },
        "id": "ptmsVatKj1ko",
        "outputId": "42ad2913-ee37-451e-ac53-15c564895541"
      },
      "execution_count": 27,
      "outputs": [
        {
          "output_type": "stream",
          "name": "stdout",
          "text": [
            "2.0\n",
            "5.0\n"
          ]
        }
      ]
    },
    {
      "cell_type": "code",
      "source": [
        "# 추가 코드\n",
        "def cleargrad(self):\n",
        "    self.grad = None # 여러 가지 미분을 계산할 때 똑같은 변수를 재사용 가능"
      ],
      "metadata": {
        "id": "10RKj5p3kYW4"
      },
      "execution_count": null,
      "outputs": []
    },
    {
      "cell_type": "code",
      "source": [
        "!python step14.py"
      ],
      "metadata": {
        "colab": {
          "base_uri": "https://localhost:8080/"
        },
        "id": "bQIVew80k6KF",
        "outputId": "75350048-cc53-46a8-b013-56aa82521563"
      },
      "execution_count": 28,
      "outputs": [
        {
          "output_type": "stream",
          "name": "stdout",
          "text": [
            "2.0\n",
            "3.0\n"
          ]
        }
      ]
    },
    {
      "cell_type": "markdown",
      "source": [
        "## 15단계: 복잡한 계산 그래프(이론 편)\n",
        "- 현재 우리가 구현한 Dezero는 일직선 계산 그래프를 잘 수행하지만 더 복잡한 계산 그래프의 역전파를 제대로 할 수 없다.\n",
        "\n",
        "### 15.1 역전파의 올바른 순서\n",
        "\n",
        "![](https://velog.velcdn.com/images/hyxxnii/post/3e7d8eb2-4eff-442b-84e4-6b8bb79d980c/image.png)\n",
        "<center>중간에 분기했다가 다시 합류하는 계산 그래프</center>\n",
        "\n",
        "- 현재 DeZero는 위와 같은 계산 그래프의 역전파도 수행할 수 없다.\n",
        "- 계산 중간에 'a'라는 변수는 역전파 출력시 미분값이 더해야 한다. 'a'의 미분을 계산하려면 'a'의 출력 쪽에서 전파하는 2개의 미분값이 필요하다.\n",
        "- 그 2개의 미분값이 전달된 후에야 a > x 전파가 가능하다.\n",
        "\n",
        "### 15.2 현재의 DeZero\n",
        "- Variable 클래스에서 funcs 리스트를 자세히봐라.\n",
        "- while의 마지막 code에서 처리할 함수의 후보를 funcs 리스트의 끝에 추가하고 있다. 그 다음 처리할 함수를 그 리스트의 끝에서 꺼낸다.\n",
        "- 이렇게 된다면 함수의 처리 순서가 D,C,A,B,A가 되어 버린다.\n",
        "- 역전파 과정을 다시 생각해보자. funcs 리스트에 D가 추가되어 [D] 상태로 시작된다. 그 다음 D의 입력 변수인 B와 C가 리스트에 추가될 것이다.\n",
        "- 이 시점에서 funcs 리스트는 [B,C]이다. 그 다음 마지막 원소 C를 꺼내고 A가 리스트에 추가되어 [B,A]가 된다. 그럼 다시 마지막 원소인 A를 꺼내버린다. 원래 B가 나왔어야했다."
      ],
      "metadata": {
        "id": "R_YOmziClDJB"
      }
    },
    {
      "cell_type": "code",
      "source": [
        "class Variable():\n",
        "    def __init__(self, data):\n",
        "        if data is not None:\n",
        "            if not isinstance(data, np.ndarray):\n",
        "                raise TypeError('{}은(는) 지원하지 않습니다.'.format(type(data)))\n",
        "        self.data = data\n",
        "        self.grad = None # 미분값 저장\n",
        "        self.creator = None # 인스턴스 변수 추가\n",
        "\n",
        "    def set_creator(self, func): # 메서드 추가\n",
        "        self.creator = func\n",
        "\n",
        "    def cleargrad(self):\n",
        "        self.grad = None # 여러 가지 미분을 계산할 때 똑같은 변수를 재사용 가능\n",
        "\n",
        "    def backward(self):\n",
        "        if self.grad is None:\n",
        "            self.grad = np.ones_like(self.data) # self.data와 형상과\n",
        "            # 데이터 터입이 같은 ndarray 인스턴스 생성\n",
        "        funcs = [self.creator]\n",
        "        while funcs:\n",
        "            f = funcs.pop() # 1. 함수를 가져온다.\n",
        "            gys = [output.grad for output in f.outputs] # 출력 변수(미분값)을 리스트에 담는다.\n",
        "            gxs = f.backward(*gys) # 역전파 호출 : 리스트 언팩\n",
        "            if not isinstance(gxs, tuple): # 튜플이 아닌 경우 튜플로 변경\n",
        "                gxs = (gxs, )\n",
        "            for x, gx in zip(f.inputs, gxs): # 모든 Variable 인스턴스 각각에 알맞은 미분값을 설정\n",
        "                if x.grad is None:\n",
        "                    x.grad = gx\n",
        "                else:\n",
        "                    x.grad = x.grad + gx # 미분값을 더해준다.\n",
        "\n",
        "                if x.creator is not None:\n",
        "                    funcs.append(x.creator)"
      ],
      "metadata": {
        "id": "JTN3O9Mwn_SH"
      },
      "execution_count": null,
      "outputs": []
    },
    {
      "cell_type": "markdown",
      "source": [
        "### 15.3 함수 우선순위\n",
        "- 이런 문제가 발생한 이유는 함수 우선순위를 설정하지 않았기 때문이다. 우선순위를 설정하는 가장 쉬운 방법은 함수와 변수 간 관계를 활용하는 것이다. 이 관계를 기준으로 함수와 변수의 '세대'를 기록하고 이것이 우선순위인 것이다."
      ],
      "metadata": {
        "id": "u611KaoQpdth"
      }
    },
    {
      "cell_type": "markdown",
      "source": [
        "## 16단계: 복잡한 계산 그래프(구현 편)\n",
        "\n",
        "### 16.1 세대 추가\n",
        "- Variable, Function 클래스에 인스턴스 변수 generation을 추가한다."
      ],
      "metadata": {
        "id": "uFF3fFA0rsdS"
      }
    },
    {
      "cell_type": "code",
      "source": [
        "# 추가 코드\n",
        "\n",
        "class Variable():\n",
        "    def __init__(self, data):\n",
        "        if data is not None:\n",
        "            if not isinstance(data, np.ndarray):\n",
        "                raise TypeError('{}은(는) 지원하지 않습니다.'.format(type(data)))\n",
        "        self.data = data\n",
        "        self.grad = None # 미분값 저장\n",
        "        self.creator = None # 인스턴스 변수 추가\n",
        "        self.generation = 0 # 세대 수를 기록하는 변수\n",
        "\n",
        "    def set_creator(self, func): # 메서드 추가\n",
        "        self.creator = func\n",
        "        self.generation = func.generation + 1 # 세대를 기록 (부모 세대 + 1)"
      ],
      "metadata": {
        "id": "kMQOSNxkr6bK"
      },
      "execution_count": null,
      "outputs": []
    },
    {
      "cell_type": "code",
      "source": [
        "# 추가 코드\n",
        "\n",
        "class Function:\n",
        "    def __call__(self, *inputs): # 임의 개수의 인수(가변 길이 인수)를 건네 함수를 호출할 수 있다.\n",
        "        xs = [x.data for x in inputs] # input을 리스트로\n",
        "        ys = self.forward(*xs) # 언팩\n",
        "        if not isinstance(ys, tuple): # 튜플이 아닌 경우 튜플로 변경\n",
        "            ys = (ys,)\n",
        "        outputs = [Variable(as_array(y)) for y in ys] # output을 리스트로\n",
        "\n",
        "        # 입력 변수와 같은 값으로 generation 설정\n",
        "        self.generation = max([x.generation for x in inputs])\n",
        "        \n",
        "        for output in outputs:\n",
        "            output.set_creator(self)\n",
        "        self.inputs = inputs\n",
        "        self.outputs = outputs\n",
        "\n",
        "        # 리스트의 원소가 하나라면 첫 번째 원소를 반환한다.\n",
        "        return outputs if len(outputs) > 1 else outputs[0]"
      ],
      "metadata": {
        "id": "eMKPCzZQscJF"
      },
      "execution_count": null,
      "outputs": []
    },
    {
      "cell_type": "markdown",
      "source": [
        "### 16.3 Variable 클래스의 backward\n",
        "- add_func 함수를 backward 메서드 안에 중첩 함수로 정의했다. 중첩 함수는 주로 다음 두 조건을 충족할 때 적합하다.\n",
        "- 감싸는 메서드(backward 메서드) 안에서만 이용한다.\n",
        "- 감싸는 메서드(backward 메서드)에 정의된 변수(funcs, seen_set)를 사용해야 한다."
      ],
      "metadata": {
        "id": "CcZd546Xs3qU"
      }
    },
    {
      "cell_type": "code",
      "source": [
        "# 추가 코드\n",
        "class Variable:\n",
        "\n",
        "   def backward(self):\n",
        "        if self.grad is None:\n",
        "            self.grad = np.ones_like(self.data) # self.data와 형상과\n",
        "            # 데이터 터입이 같은 ndarray 인스턴스 생성\n",
        "\n",
        "        funcs = []\n",
        "        seen_set = set() # 함수의 backward 메서드가 여러 번 불리는 것 방지\n",
        "\n",
        "        def add_func(f): # 함수 리스트 세대 순으로 정렬\n",
        "            if f not in seen_set:\n",
        "                funcs.append(f)\n",
        "                seen_set.add(f)\n",
        "                funcs.sort(key=lambda x: x.generation)\n",
        "\n",
        "        add_func(self.creator)\n",
        "\n",
        "        while funcs:\n",
        "            f = funcs.pop() # 자동으로 세대가 가장 큰 DeZero 함수를 꺼낸다.\n",
        "            gys = [output.grad for output in f.outputs] # 출력 변수(미분값)을 리스트에 담는다.\n",
        "            gxs = f.backward(*gys) # 역전파 호출 : 리스트 언팩\n",
        "            if not isinstance(gxs, tuple): # 튜플이 아닌 경우 튜플로 변경\n",
        "                gxs = (gxs, )\n",
        "            for x, gx in zip(f.inputs, gxs): # 모든 Variable 인스턴스 각각에 알맞은 미분값을 설정\n",
        "                if x.grad is None:\n",
        "                    x.grad = gx\n",
        "                else:\n",
        "                    x.grad = x.grad + gx # 미분값을 더해준다.\n",
        "\n",
        "                if x.creator is not None:\n",
        "                    add_func(x.creator) "
      ],
      "metadata": {
        "id": "XuacB_ANtoRt"
      },
      "execution_count": null,
      "outputs": []
    },
    {
      "cell_type": "markdown",
      "source": [
        "### 16.4 동작 확인"
      ],
      "metadata": {
        "id": "grWK6iT5wFqv"
      }
    },
    {
      "cell_type": "code",
      "source": [
        "!python step16.py"
      ],
      "metadata": {
        "colab": {
          "base_uri": "https://localhost:8080/"
        },
        "id": "Q2wHo_Y9wNaR",
        "outputId": "ddd07901-5134-4505-f356-e9c93c047958"
      },
      "execution_count": 30,
      "outputs": [
        {
          "output_type": "stream",
          "name": "stdout",
          "text": [
            "32.0\n",
            "64.0\n"
          ]
        }
      ]
    },
    {
      "cell_type": "markdown",
      "source": [
        "## 17단계: 메모리 관리와 순환 참조\n",
        "- 성능을 개선할 수 있는 대책을 적용할 예정이다.\n",
        "\n",
        "### 17.1 메모리 관리\n",
        "- 파이썬은 필요없어진 객체를 삭제한다. 그렇지만 코드를 제대로 작성하지 않으면 메모리 부족 등의 문제가 발생한다. 특히 신경망에서는 대량의 데이터를 다루기에 메모리 관리를 제대로 하지않으면 실행 시간이 매우 오래걸린다.\n",
        "- 파이썬 메모리 관리 방식은 두 가지이다. 첫 번째는 참조 수를 세는 방식, 두 번째는 세대를 기준으로 쓸모 없어진 객체를 회수하는 방식이다.\n",
        "\n",
        "### 17.2 참조 카운트 방식의 메모리 관리\n",
        "- "
      ],
      "metadata": {
        "id": "_XSGRI-dxJXK"
      }
    }
  ]
}