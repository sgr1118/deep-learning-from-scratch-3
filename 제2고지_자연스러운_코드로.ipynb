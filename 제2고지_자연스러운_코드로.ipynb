{
  "nbformat": 4,
  "nbformat_minor": 0,
  "metadata": {
    "colab": {
      "provenance": [],
      "mount_file_id": "1gUQ5b9_chSYdopEJW52GXbnbFPBuTXU6",
      "authorship_tag": "ABX9TyMi/PZFCPdmspLVN+RxONV8",
      "include_colab_link": true
    },
    "kernelspec": {
      "name": "python3",
      "display_name": "Python 3"
    },
    "language_info": {
      "name": "python"
    }
  },
  "cells": [
    {
      "cell_type": "markdown",
      "metadata": {
        "id": "view-in-github",
        "colab_type": "text"
      },
      "source": [
        "<a href=\"https://colab.research.google.com/github/sgr1118/deep-learning-from-scratch-3/blob/main/%EC%A0%9C2%EA%B3%A0%EC%A7%80_%EC%9E%90%EC%97%B0%EC%8A%A4%EB%9F%AC%EC%9A%B4_%EC%BD%94%EB%93%9C%EB%A1%9C.ipynb\" target=\"_parent\"><img src=\"https://colab.research.google.com/assets/colab-badge.svg\" alt=\"Open In Colab\"/></a>"
      ]
    },
    {
      "cell_type": "markdown",
      "source": [
        "# 목표\n",
        "- 더 복잡한 계산을 수행하는 DeZero 확장\n",
        "- DeZero 파이썬 패키지로 묶어주기"
      ],
      "metadata": {
        "id": "BRytXo6PIj2b"
      }
    },
    {
      "cell_type": "code",
      "source": [
        "cd '/content/drive/MyDrive/Book/deeplearng_basic_3/'"
      ],
      "metadata": {
        "colab": {
          "base_uri": "https://localhost:8080/"
        },
        "id": "H-cGKe4wNE6d",
        "outputId": "881f5913-e773-40f2-92a7-3a73ac42a16a"
      },
      "execution_count": null,
      "outputs": [
        {
          "output_type": "stream",
          "name": "stdout",
          "text": [
            "/content/drive/MyDrive/Book/deeplearng_basic_3\n"
          ]
        }
      ]
    },
    {
      "cell_type": "markdown",
      "source": [
        "## 11단계 : 가변 길이 인수(순전파 편)\n",
        "- 함수는 한 개의 변수가 아닌 여러개의 변수를 입력받기도 한다.\n",
        "- 가변 길이는 인수(또는 반환값)의 수가 달라질 수 있다는 것\n",
        "\n",
        "### 11.1 Function 클래스 수정\n",
        "- 가변 길이 입출력을 표현하려면 변수들을 리스트 또는 튜플을 넣어 처리하는 것이 편하다.\n",
        "- __call__ 메서드의 인수와 반환값을 리스트로 바꿔본다."
      ],
      "metadata": {
        "id": "QISp8A1CJdU8"
      }
    },
    {
      "cell_type": "code",
      "execution_count": null,
      "metadata": {
        "id": "rgpDXp5lIWyr"
      },
      "outputs": [],
      "source": [
        "# 추가되어진 코드\n",
        "class Funtion:\n",
        "    def __call__(self, inputs):\n",
        "        xs = [x.data for x in inputs] # input을 리스트로\n",
        "        ys = self.forward(xs)\n",
        "        outputs = [Variable(as_array(y)) for y in ys] # output을 리스트로\n",
        "\n",
        "        for output in outputs:\n",
        "            output.set_creator(self)\n",
        "        self.inputs = inputs\n",
        "        self.outputs = outputs\n",
        "        return outputs"
      ]
    },
    {
      "cell_type": "markdown",
      "source": [
        "### 11.2 Add 클래스 구현\n",
        "- Add 클래스를 구현한다. 다만 인수와 반환값이 리스트 또는 튜플이여야한다.\n",
        "- 아래 코드는 더 자연스럽게 개선이 필요하다."
      ],
      "metadata": {
        "id": "tQGG9BwQMM7w"
      }
    },
    {
      "cell_type": "code",
      "source": [
        "# 추가 코드\n",
        "class Add(Function):\n",
        "    def forward(self, xs):\n",
        "        x0, x1 = xs\n",
        "        y = x0 + x1\n",
        "        return (y,) # 튜플 형태 반환값, 값이 하나 생략되어도 문제 없다.\n",
        "\n",
        "xs = [Variable(np.array(2)), Variable(np.array(3))]\n",
        "f = Add()\n",
        "ys = f(xs)\n",
        "y = ys[0]\n",
        "print(y.data)"
      ],
      "metadata": {
        "id": "16VKU1qAL3Bi"
      },
      "execution_count": null,
      "outputs": []
    },
    {
      "cell_type": "code",
      "source": [
        "!python step11.py"
      ],
      "metadata": {
        "colab": {
          "base_uri": "https://localhost:8080/"
        },
        "id": "jwnhsqd_NJNT",
        "outputId": "b60543f8-94d4-4679-c069-aa6f2c4e89e4"
      },
      "execution_count": null,
      "outputs": [
        {
          "output_type": "stream",
          "name": "stdout",
          "text": [
            "5\n"
          ]
        }
      ]
    },
    {
      "cell_type": "markdown",
      "source": [
        "## 12단계 : 가변 길이 인수(개선 편)\n",
        "- Add 클래스를 이용하는 사람을 위한 개선\n",
        "- 구현하는 사람을 위한 개선\n",
        "\n",
        "### 12.1 첫 번째 개선 : 함수를 사용하기 쉽게\n",
        "- 기존 클래스는 인수를 리스트에 모아서 전달받지만 개선하면 이 같은 과정을 거치지 않아도된다."
      ],
      "metadata": {
        "id": "173hu41DNjEN"
      }
    },
    {
      "cell_type": "code",
      "source": [
        "# 추가 코드\n",
        "class Function:\n",
        "    def __call__(self, *inputs): # 임의 개수의 인수(가변 길이 인수)를 건네 함수를 호출할 수 있다.\n",
        "        xs = [x.data for x in inputs] # input을 리스트로\n",
        "        ys = self.forward(xs)\n",
        "        outputs = [Variable(as_array(y)) for y in ys] # output을 리스트로\n",
        "\n",
        "        for output in outputs:\n",
        "            output.set_creator(self)\n",
        "        self.inputs = inputs\n",
        "        self.outputs = outputs\n",
        "\n",
        "        # 리스트의 원소가 하나라면 첫 번째 원소를 반환한다.\n",
        "        return outputs if len(outputs) > 1 else outputs[0]"
      ],
      "metadata": {
        "id": "b7xQzSYpOiUG"
      },
      "execution_count": null,
      "outputs": []
    },
    {
      "cell_type": "code",
      "source": [
        "!python step12.py"
      ],
      "metadata": {
        "colab": {
          "base_uri": "https://localhost:8080/"
        },
        "id": "ubFjd1PUQsUL",
        "outputId": "afc57783-ebc0-48b3-e98d-625fa0dade4c"
      },
      "execution_count": null,
      "outputs": [
        {
          "output_type": "stream",
          "name": "stdout",
          "text": [
            "5\n"
          ]
        }
      ]
    },
    {
      "cell_type": "markdown",
      "source": [
        "### 12.2 두 번째 개선: 함수를 구현하기 쉽도록\n",
        "- 기존 Add 클래스는 인수는 리스트로 전달되고 결과는 튜플로 반환했다.\n",
        "- 개선하면 입력, 변수를 직접 받고 결과도 변수를 직접 돌려준다."
      ],
      "metadata": {
        "id": "VwFsDP1XRrvY"
      }
    },
    {
      "cell_type": "code",
      "source": [
        "# 추가 코드\n",
        "class Function:\n",
        "    def __call__(self, *inputs): # 임의 개수의 인수(가변 길이 인수)를 건네 함수를 호출할 수 있다.\n",
        "        xs = [x.data for x in inputs] # input을 리스트로\n",
        "        ys = self.forward(*xs) # 언팩\n",
        "        if not isinstance(ys, tuple): # 튜플이 아닌 경우 튜플로 변경\n",
        "            ys = (ys,)\n",
        "        outputs = [Variable(as_array(y)) for y in ys] # output을 리스트로\n",
        "\n",
        "        for output in outputs:\n",
        "            output.set_creator(self)\n",
        "        self.inputs = inputs\n",
        "        self.outputs = outputs\n",
        "\n",
        "        # 리스트의 원소가 하나라면 첫 번째 원소를 반환한다.\n",
        "        return outputs if len(outputs) > 1 else outputs[0]"
      ],
      "metadata": {
        "id": "Eow40uecSAW-"
      },
      "execution_count": null,
      "outputs": []
    },
    {
      "cell_type": "code",
      "source": [
        "!python step12.py"
      ],
      "metadata": {
        "colab": {
          "base_uri": "https://localhost:8080/"
        },
        "id": "VvAuIhoKSsAa",
        "outputId": "13fd609f-f886-4dd2-d2b5-03bf7a42e59f"
      },
      "execution_count": null,
      "outputs": [
        {
          "output_type": "stream",
          "name": "stdout",
          "text": [
            "5\n"
          ]
        }
      ]
    },
    {
      "cell_type": "markdown",
      "source": [
        "### 12.3 add 함수 구현\n",
        "- 마지막으로 Add 클래스를 '파이썬 함수'로 사용할 수 있는 코드 추가"
      ],
      "metadata": {
        "id": "S-l5-nVtStp8"
      }
    },
    {
      "cell_type": "code",
      "source": [
        "# 추가 코드\n",
        "def add(x0, x1):\n",
        "    return Add()(x0, x1)"
      ],
      "metadata": {
        "id": "SFwgqd3yS2AT"
      },
      "execution_count": null,
      "outputs": []
    },
    {
      "cell_type": "code",
      "source": [
        "!python step12.py"
      ],
      "metadata": {
        "colab": {
          "base_uri": "https://localhost:8080/"
        },
        "id": "VUAzC1FzTCjy",
        "outputId": "0951d316-00f7-4547-b60b-f10960c63594"
      },
      "execution_count": null,
      "outputs": [
        {
          "output_type": "stream",
          "name": "stdout",
          "text": [
            "5\n"
          ]
        }
      ]
    },
    {
      "cell_type": "markdown",
      "source": [
        "## 13단계 : 가변 길이 인수(역전파 편)\n",
        "\n",
        "### 13.1 가변 길이 인수에 대응한 Add 클래스의 역전파\n",
        "- 상류에서 온 미분값을 '그대로 흘려보내는 것'이 덧셈의 역전파이다."
      ],
      "metadata": {
        "id": "IwFLgzjFTQP5"
      }
    },
    {
      "cell_type": "code",
      "source": [
        "# 추가 코드\n",
        "class Add(Function):\n",
        "    def forward(self, x0, x1):\n",
        "        y = x0 + x1\n",
        "        return y\n",
        "\n",
        "    def backward(self, gy): # 입력이 1개, 출력이 2개\n",
        "        return gy, gy"
      ],
      "metadata": {
        "id": "KxH8NGXtVnbw"
      },
      "execution_count": null,
      "outputs": []
    },
    {
      "cell_type": "markdown",
      "source": [
        "### 13.2 Variable 클래스 수정\n",
        "- 앞서 Variable 클래스는 함수의 입출력이 하나라고 가정했으나 이 부분을 여러 개의 변수가 대응할 수 있도록 수정"
      ],
      "metadata": {
        "id": "qOTNKb4UWGMs"
      }
    },
    {
      "cell_type": "code",
      "source": [
        "# 추가 코드\n",
        "def backward(self):\n",
        "        if self.grad is None:\n",
        "            self.grad = np.ones_like(self.data) # self.data와 형상과\n",
        "            # 데이터 터입이 같은 ndarray 인스턴스 생성\n",
        "        funcs = [self.creator]\n",
        "        while funcs:\n",
        "            f = funcs.pop() # 1. 함수를 가져온다.\n",
        "            gys = [output.grad for output in f.outputs] # 출력 변수(미분값)을 리스트에 담는다.\n",
        "            gxs = f.backward(*gys) # 역전파 호출 : 리스트 언팩\n",
        "            if not isinstance(gxs, tuple): # 튜플이 아닌 경우 튜플로 변경\n",
        "                gxs = (gxs, )\n",
        "            for x, gx in zip(f.inputs, gxs): # 모든 Variable 인스턴스 각각에 알맞은 미분값을 설정\n",
        "                x.grad = gx\n",
        "\n",
        "                if x.creator is not None:\n",
        "                    funcs.append(x.creator)"
      ],
      "metadata": {
        "id": "ZBXuaL2mWYwi"
      },
      "execution_count": null,
      "outputs": []
    },
    {
      "cell_type": "markdown",
      "source": [
        "### 13.3 Square 클래스 구현\n",
        "- Square 클래스또한 새로운 Variable과 Function에 맞게 수정할 필요가 있다."
      ],
      "metadata": {
        "id": "KPZuIKYrXvnd"
      }
    },
    {
      "cell_type": "code",
      "source": [
        "# 추가 코드\n",
        "\n",
        "class Square(Function):\n",
        "    def forward(self, x):\n",
        "        y = x ** 2\n",
        "        return y\n",
        "\n",
        "    def backward(self, gy):\n",
        "        x = self.inputs[0].data # 복수형 inputs로 변경\n",
        "        gx = 2 * x * gy\n",
        "        return gx\n",
        "\n",
        "    def squqre(x):\n",
        "        f = Square()\n",
        "        return f(x)"
      ],
      "metadata": {
        "id": "ZRwFSzX1fDU6"
      },
      "execution_count": null,
      "outputs": []
    },
    {
      "cell_type": "code",
      "source": [
        "!python step13.py"
      ],
      "metadata": {
        "colab": {
          "base_uri": "https://localhost:8080/"
        },
        "id": "6hR5HIeZgDLL",
        "outputId": "856dbc12-f5db-4055-8987-5cb605767378"
      },
      "execution_count": null,
      "outputs": [
        {
          "output_type": "stream",
          "name": "stdout",
          "text": [
            "13.0\n",
            "4.0\n",
            "6.0\n"
          ]
        }
      ]
    },
    {
      "cell_type": "markdown",
      "source": [
        "- $z = x^2 + y^2$이라는 계산을 z = add(square(x), square(y))라는 코드로 풀어냈다. 그런 다음 z.backward()를 호출하면 미분 계산이 자동으로 이루어진다."
      ],
      "metadata": {
        "id": "-HGayCtOgR-n"
      }
    },
    {
      "cell_type": "markdown",
      "source": [
        "## 14단계: 같은 변수 반복 사용\n",
        "- 현재까지 코드에서 같은 변수를 반복 사용하면 의도대로 동작하지 않을 수 있다는 문제가 있다.\n",
        "- 동일한 변수를 사용하면 덧셈을 제대로 미분할 수 없다.\n",
        "\n",
        "### 14.1 문제의 원인\n",
        "- step13.py에서 Variable 클래스에 문제가 있다. 현재는 전해지는 미분값을 그대로 대입하고 있다. 즉 같은 변수를 반복해서 사용하면 미분값이 덮어 씌여진다.\n",
        "- 해결하기 위해 전파되는 미분값의 '합'이 필요하다.\n",
        "\n",
        "### 14.2 해결책\n",
        "- 미분값의 '합'을 구하는 코드 구현"
      ],
      "metadata": {
        "id": "FTKER1Rogn6g"
      }
    },
    {
      "cell_type": "code",
      "source": [
        "# 코드 수정\n",
        "\n",
        "class Variable():\n",
        "    def __init__(self, data):\n",
        "        if data is not None:\n",
        "            if not isinstance(data, np.ndarray):\n",
        "                raise TypeError('{}은(는) 지원하지 않습니다.'.format(type(data)))\n",
        "        self.data = data\n",
        "        self.grad = None # 미분값 저장\n",
        "        self.creator = None # 인스턴스 변수 추가\n",
        "\n",
        "    def set_creator(self, func): # 메서드 추가\n",
        "        self.creator = func\n",
        "\n",
        "    def backward(self):\n",
        "        if self.grad is None:\n",
        "            self.grad = np.ones_like(self.data) # self.data와 형상과\n",
        "            # 데이터 터입이 같은 ndarray 인스턴스 생성\n",
        "        funcs = [self.creator]\n",
        "        while funcs:\n",
        "            f = funcs.pop() # 1. 함수를 가져온다.\n",
        "            gys = [output.grad for output in f.outputs] # 출력 변수(미분값)을 리스트에 담는다.\n",
        "            gxs = f.backward(*gys) # 역전파 호출 : 리스트 언팩\n",
        "            if not isinstance(gxs, tuple): # 튜플이 아닌 경우 튜플로 변경\n",
        "                gxs = (gxs, )\n",
        "            for x, gx in zip(f.inputs, gxs): # 모든 Variable 인스턴스 각각에 알맞은 미분값을 설정\n",
        "                if x.grad is None:\n",
        "                    x.grad = gx\n",
        "                else:\n",
        "                    x.grad = x.grad + gx \n",
        "\n",
        "                if x.creator is not None:\n",
        "                    funcs.append(x.creator)"
      ],
      "metadata": {
        "id": "x4vNLeGLg7nV"
      },
      "execution_count": null,
      "outputs": []
    },
    {
      "cell_type": "code",
      "source": [
        "!python step14.py"
      ],
      "metadata": {
        "colab": {
          "base_uri": "https://localhost:8080/"
        },
        "id": "oHfAW8j8jZ5q",
        "outputId": "18b2ed44-1e67-4d9a-d453-ac59114a00a9"
      },
      "execution_count": null,
      "outputs": [
        {
          "output_type": "stream",
          "name": "stdout",
          "text": [
            "2.0\n",
            "3.0\n"
          ]
        }
      ]
    },
    {
      "cell_type": "markdown",
      "source": [
        "### 14.3 미분값 재설정\n",
        "- 문제가 해결된 듯 보이지만 또 다른 문제가 있다. 같은 변수를 사용하여 '다른' 계산을 할 경우 계산이 꼬이는 문제이다.\n",
        "- 인스턴스를 재사용하는 바람에 두 번째 계산 값에 첫 번째 미분 값이 더해지고 말았다.\n",
        "- 해결하기 위해 Variable 클래스에 미분값을 초기화하는 cleargead 메서드 추가"
      ],
      "metadata": {
        "id": "MbBCK7ufjq2e"
      }
    },
    {
      "cell_type": "code",
      "source": [
        "!python step14.py"
      ],
      "metadata": {
        "colab": {
          "base_uri": "https://localhost:8080/"
        },
        "id": "ptmsVatKj1ko",
        "outputId": "42ad2913-ee37-451e-ac53-15c564895541"
      },
      "execution_count": null,
      "outputs": [
        {
          "output_type": "stream",
          "name": "stdout",
          "text": [
            "2.0\n",
            "5.0\n"
          ]
        }
      ]
    },
    {
      "cell_type": "code",
      "source": [
        "# 추가 코드\n",
        "def cleargrad(self):\n",
        "    self.grad = None # 여러 가지 미분을 계산할 때 똑같은 변수를 재사용 가능"
      ],
      "metadata": {
        "id": "10RKj5p3kYW4"
      },
      "execution_count": null,
      "outputs": []
    },
    {
      "cell_type": "code",
      "source": [
        "!python step14.py"
      ],
      "metadata": {
        "colab": {
          "base_uri": "https://localhost:8080/"
        },
        "id": "bQIVew80k6KF",
        "outputId": "75350048-cc53-46a8-b013-56aa82521563"
      },
      "execution_count": null,
      "outputs": [
        {
          "output_type": "stream",
          "name": "stdout",
          "text": [
            "2.0\n",
            "3.0\n"
          ]
        }
      ]
    },
    {
      "cell_type": "markdown",
      "source": [
        "## 15단계: 복잡한 계산 그래프(이론 편)\n",
        "- 현재 우리가 구현한 Dezero는 일직선 계산 그래프를 잘 수행하지만 더 복잡한 계산 그래프의 역전파를 제대로 할 수 없다.\n",
        "\n",
        "### 15.1 역전파의 올바른 순서\n",
        "\n",
        "![](https://velog.velcdn.com/images/hyxxnii/post/3e7d8eb2-4eff-442b-84e4-6b8bb79d980c/image.png)\n",
        "<center>중간에 분기했다가 다시 합류하는 계산 그래프</center>\n",
        "\n",
        "- 현재 DeZero는 위와 같은 계산 그래프의 역전파도 수행할 수 없다.\n",
        "- 계산 중간에 'a'라는 변수는 역전파 출력시 미분값이 더해야 한다. 'a'의 미분을 계산하려면 'a'의 출력 쪽에서 전파하는 2개의 미분값이 필요하다.\n",
        "- 그 2개의 미분값이 전달된 후에야 a > x 전파가 가능하다.\n",
        "\n",
        "### 15.2 현재의 DeZero\n",
        "- Variable 클래스에서 funcs 리스트를 자세히봐라.\n",
        "- while의 마지막 code에서 처리할 함수의 후보를 funcs 리스트의 끝에 추가하고 있다. 그 다음 처리할 함수를 그 리스트의 끝에서 꺼낸다.\n",
        "- 이렇게 된다면 함수의 처리 순서가 D,C,A,B,A가 되어 버린다.\n",
        "- 역전파 과정을 다시 생각해보자. funcs 리스트에 D가 추가되어 [D] 상태로 시작된다. 그 다음 D의 입력 변수인 B와 C가 리스트에 추가될 것이다.\n",
        "- 이 시점에서 funcs 리스트는 [B,C]이다. 그 다음 마지막 원소 C를 꺼내고 A가 리스트에 추가되어 [B,A]가 된다. 그럼 다시 마지막 원소인 A를 꺼내버린다. 원래 B가 나왔어야했다."
      ],
      "metadata": {
        "id": "R_YOmziClDJB"
      }
    },
    {
      "cell_type": "code",
      "source": [
        "class Variable():\n",
        "    def __init__(self, data):\n",
        "        if data is not None:\n",
        "            if not isinstance(data, np.ndarray):\n",
        "                raise TypeError('{}은(는) 지원하지 않습니다.'.format(type(data)))\n",
        "        self.data = data\n",
        "        self.grad = None # 미분값 저장\n",
        "        self.creator = None # 인스턴스 변수 추가\n",
        "\n",
        "    def set_creator(self, func): # 메서드 추가\n",
        "        self.creator = func\n",
        "\n",
        "    def cleargrad(self):\n",
        "        self.grad = None # 여러 가지 미분을 계산할 때 똑같은 변수를 재사용 가능\n",
        "\n",
        "    def backward(self):\n",
        "        if self.grad is None:\n",
        "            self.grad = np.ones_like(self.data) # self.data와 형상과\n",
        "            # 데이터 터입이 같은 ndarray 인스턴스 생성\n",
        "        funcs = [self.creator]\n",
        "        while funcs:\n",
        "            f = funcs.pop() # 1. 함수를 가져온다.\n",
        "            gys = [output.grad for output in f.outputs] # 출력 변수(미분값)을 리스트에 담는다.\n",
        "            gxs = f.backward(*gys) # 역전파 호출 : 리스트 언팩\n",
        "            if not isinstance(gxs, tuple): # 튜플이 아닌 경우 튜플로 변경\n",
        "                gxs = (gxs, )\n",
        "            for x, gx in zip(f.inputs, gxs): # 모든 Variable 인스턴스 각각에 알맞은 미분값을 설정\n",
        "                if x.grad is None:\n",
        "                    x.grad = gx\n",
        "                else:\n",
        "                    x.grad = x.grad + gx # 미분값을 더해준다.\n",
        "\n",
        "                if x.creator is not None:\n",
        "                    funcs.append(x.creator)"
      ],
      "metadata": {
        "id": "JTN3O9Mwn_SH"
      },
      "execution_count": null,
      "outputs": []
    },
    {
      "cell_type": "markdown",
      "source": [
        "### 15.3 함수 우선순위\n",
        "- 이런 문제가 발생한 이유는 함수 우선순위를 설정하지 않았기 때문이다. 우선순위를 설정하는 가장 쉬운 방법은 함수와 변수 간 관계를 활용하는 것이다. 이 관계를 기준으로 함수와 변수의 '세대'를 기록하고 이것이 우선순위인 것이다."
      ],
      "metadata": {
        "id": "u611KaoQpdth"
      }
    },
    {
      "cell_type": "markdown",
      "source": [
        "## 16단계: 복잡한 계산 그래프(구현 편)\n",
        "\n",
        "### 16.1 세대 추가\n",
        "- Variable, Function 클래스에 인스턴스 변수 generation을 추가한다."
      ],
      "metadata": {
        "id": "uFF3fFA0rsdS"
      }
    },
    {
      "cell_type": "code",
      "source": [
        "# 추가 코드\n",
        "\n",
        "class Variable():\n",
        "    def __init__(self, data):\n",
        "        if data is not None:\n",
        "            if not isinstance(data, np.ndarray):\n",
        "                raise TypeError('{}은(는) 지원하지 않습니다.'.format(type(data)))\n",
        "        self.data = data\n",
        "        self.grad = None # 미분값 저장\n",
        "        self.creator = None # 인스턴스 변수 추가\n",
        "        self.generation = 0 # 세대 수를 기록하는 변수\n",
        "\n",
        "    def set_creator(self, func): # 메서드 추가\n",
        "        self.creator = func\n",
        "        self.generation = func.generation + 1 # 세대를 기록 (부모 세대 + 1)"
      ],
      "metadata": {
        "id": "kMQOSNxkr6bK"
      },
      "execution_count": null,
      "outputs": []
    },
    {
      "cell_type": "code",
      "source": [
        "# 추가 코드\n",
        "\n",
        "class Function:\n",
        "    def __call__(self, *inputs): # 임의 개수의 인수(가변 길이 인수)를 건네 함수를 호출할 수 있다.\n",
        "        xs = [x.data for x in inputs] # input을 리스트로\n",
        "        ys = self.forward(*xs) # 언팩\n",
        "        if not isinstance(ys, tuple): # 튜플이 아닌 경우 튜플로 변경\n",
        "            ys = (ys,)\n",
        "        outputs = [Variable(as_array(y)) for y in ys] # output을 리스트로\n",
        "\n",
        "        # 입력 변수와 같은 값으로 generation 설정\n",
        "        self.generation = max([x.generation for x in inputs])\n",
        "        \n",
        "        for output in outputs:\n",
        "            output.set_creator(self)\n",
        "        self.inputs = inputs\n",
        "        self.outputs = outputs\n",
        "\n",
        "        # 리스트의 원소가 하나라면 첫 번째 원소를 반환한다.\n",
        "        return outputs if len(outputs) > 1 else outputs[0]"
      ],
      "metadata": {
        "id": "eMKPCzZQscJF"
      },
      "execution_count": null,
      "outputs": []
    },
    {
      "cell_type": "markdown",
      "source": [
        "### 16.3 Variable 클래스의 backward\n",
        "- add_func 함수를 backward 메서드 안에 중첩 함수로 정의했다. 중첩 함수는 주로 다음 두 조건을 충족할 때 적합하다.\n",
        "- 감싸는 메서드(backward 메서드) 안에서만 이용한다.\n",
        "- 감싸는 메서드(backward 메서드)에 정의된 변수(funcs, seen_set)를 사용해야 한다."
      ],
      "metadata": {
        "id": "CcZd546Xs3qU"
      }
    },
    {
      "cell_type": "code",
      "source": [
        "# 추가 코드\n",
        "class Variable:\n",
        "\n",
        "   def backward(self):\n",
        "        if self.grad is None:\n",
        "            self.grad = np.ones_like(self.data) # self.data와 형상과\n",
        "            # 데이터 터입이 같은 ndarray 인스턴스 생성\n",
        "\n",
        "        funcs = []\n",
        "        seen_set = set() # 함수의 backward 메서드가 여러 번 불리는 것 방지\n",
        "\n",
        "        def add_func(f): # 함수 리스트 세대 순으로 정렬\n",
        "            if f not in seen_set:\n",
        "                funcs.append(f)\n",
        "                seen_set.add(f)\n",
        "                funcs.sort(key=lambda x: x.generation)\n",
        "\n",
        "        add_func(self.creator)\n",
        "\n",
        "        while funcs:\n",
        "            f = funcs.pop() # 자동으로 세대가 가장 큰 DeZero 함수를 꺼낸다.\n",
        "            gys = [output.grad for output in f.outputs] # 출력 변수(미분값)을 리스트에 담는다.\n",
        "            gxs = f.backward(*gys) # 역전파 호출 : 리스트 언팩\n",
        "            if not isinstance(gxs, tuple): # 튜플이 아닌 경우 튜플로 변경\n",
        "                gxs = (gxs, )\n",
        "            for x, gx in zip(f.inputs, gxs): # 모든 Variable 인스턴스 각각에 알맞은 미분값을 설정\n",
        "                if x.grad is None:\n",
        "                    x.grad = gx\n",
        "                else:\n",
        "                    x.grad = x.grad + gx # 미분값을 더해준다.\n",
        "\n",
        "                if x.creator is not None:\n",
        "                    add_func(x.creator) "
      ],
      "metadata": {
        "id": "XuacB_ANtoRt"
      },
      "execution_count": null,
      "outputs": []
    },
    {
      "cell_type": "markdown",
      "source": [
        "### 16.4 동작 확인"
      ],
      "metadata": {
        "id": "grWK6iT5wFqv"
      }
    },
    {
      "cell_type": "code",
      "source": [
        "!python step16.py"
      ],
      "metadata": {
        "colab": {
          "base_uri": "https://localhost:8080/"
        },
        "id": "Q2wHo_Y9wNaR",
        "outputId": "ddd07901-5134-4505-f356-e9c93c047958"
      },
      "execution_count": null,
      "outputs": [
        {
          "output_type": "stream",
          "name": "stdout",
          "text": [
            "32.0\n",
            "64.0\n"
          ]
        }
      ]
    },
    {
      "cell_type": "markdown",
      "source": [
        "## 17단계: 메모리 관리와 순환 참조\n",
        "- 성능을 개선할 수 있는 대책을 적용할 예정이다.\n",
        "\n",
        "### 17.1 메모리 관리\n",
        "- 파이썬은 필요없어진 객체를 삭제한다. 그렇지만 코드를 제대로 작성하지 않으면 메모리 부족 등의 문제가 발생한다. 특히 신경망에서는 대량의 데이터를 다루기에 메모리 관리를 제대로 하지않으면 실행 시간이 매우 오래걸린다.\n",
        "- 파이썬 메모리 관리 방식은 두 가지이다. 첫 번째는 참조 수를 세는 방식, 두 번째는 세대를 기준으로 쓸모 없어진 객체를 회수하는 방식이다.\n",
        "\n",
        "### 17.2 참조 카운트 방식의 메모리 관리\n",
        "- 파이썬 메모리 관리의 기본은 참조 카운트 방식이다. 객체가 참조되어지면 +1, 필요 없어지면 -1만큼 감소하여 0이되면 인터프리터가 회수된다. 아래와 같은 경우 참조 카운트가 증가한다.\n",
        "\n",
        "- 대입 연산자를 사용\n",
        "- 함수에 인주로 전당할 때\n",
        "- 컨테이너 타입 객체(리스트, 튜플, 클래스 등)을 추가할 때\n",
        "\n",
        "- 하지만 이런 방법으로도 해결할 수 없는 문제가 바로 순환 참조이다."
      ],
      "metadata": {
        "id": "_XSGRI-dxJXK"
      }
    },
    {
      "cell_type": "code",
      "source": [
        "# 참조 카운트 예시\n",
        "\n",
        "class obj:\n",
        "    pass\n",
        "\n",
        "a = obj()\n",
        "b = obj()\n",
        "c = obj()\n",
        "\n",
        "a, b = b\n",
        "b, c = c\n",
        "\n",
        "a = b = c = None # a가 참조 카운트가 0이 되고 그 다음 b, c순으로 0이 된다. "
      ],
      "metadata": {
        "id": "9EMtRUnTvwsc"
      },
      "execution_count": null,
      "outputs": []
    },
    {
      "cell_type": "markdown",
      "source": [
        "### 17.3 순환 참조\n",
        "- 아래 코드처럼 서로가 서로를 참조하는 것을 순환 참조라고한다. 이런 경우 참조 카운트가 0이 되지 않기 때문에 GC('세대별 가비지 컬렉션')방법을 사용한다.\n",
        "- GC는 불필요한 객체를 찾아내어 메모리 부족 문제를 해소한다."
      ],
      "metadata": {
        "id": "LCnJwZ0vwT5l"
      }
    },
    {
      "cell_type": "code",
      "source": [
        "# 순환 참조\n",
        "\n",
        "class obj:\n",
        "    pass\n",
        "\n",
        "a = obj()\n",
        "b = obj()\n",
        "c = obj()\n",
        "\n",
        "a, b = b\n",
        "b, c = c\n",
        "c, a = a \n",
        "\n",
        "a = b = c = None # "
      ],
      "metadata": {
        "id": "zbpgnrCjwWEj"
      },
      "execution_count": null,
      "outputs": []
    },
    {
      "cell_type": "markdown",
      "source": [
        "### 17.4 weakref 모듈\n",
        "- weakref.ref를 사용하여 약한 참조를 만들 수 있다. 이 기능은 다른 객체를 참조하되 참조 카운트는 증가시키지 않는 것이다."
      ],
      "metadata": {
        "id": "4h3YtzOaxUDg"
      }
    },
    {
      "cell_type": "code",
      "source": [
        "# 추가 코드\n",
        "import weakref\n",
        "\n",
        "class Function:\n",
        "    def __call__(self, *inputs): # 임의 개수의 인수(가변 길이 인수)를 건네 함수를 호출할 수 있다.\n",
        "        xs = [x.data for x in inputs] # input을 리스트로\n",
        "        ys = self.forward(*xs) # 언팩\n",
        "        if not isinstance(ys, tuple): # 튜플이 아닌 경우 튜플로 변경\n",
        "            ys = (ys,)\n",
        "        outputs = [Variable(as_array(y)) for y in ys] # output을 리스트로\n",
        "\n",
        "        # 입력 변수와 같은 값으로 generation 설정\n",
        "        self.generation = max([x.generation for x in inputs])\n",
        "\n",
        "        for output in outputs:\n",
        "            output.set_creator(self)\n",
        "        self.inputs = inputs\n",
        "        self.outputs = [weakref.ref(output) for output in outputs] # 약한 참조\n",
        "\n",
        "        # 리스트의 원소가 하나라면 첫 번째 원소를 반환한다.\n",
        "        return outputs if len(outputs) > 1 else outputs[0]\n",
        "\n",
        "class Varuable:\n",
        "    \n",
        "    while funcs:\n",
        "            f = funcs.pop() # 1. 함수를 가져온다.\n",
        "            gys = [output().grad for output in f.outputs] # 약한 참조를 적용하고 출력 변수(미분값)을 리스트에 담는다."
      ],
      "metadata": {
        "id": "i5P2bPI-x0Jo"
      },
      "execution_count": null,
      "outputs": []
    },
    {
      "cell_type": "markdown",
      "source": [
        "### 17.5 동작 확인\n",
        "- 순환 참조가 없어진 상태를 테스트한다."
      ],
      "metadata": {
        "id": "wtQ4DkCxyrqB"
      }
    },
    {
      "cell_type": "code",
      "source": [
        "# 추가 코드\n",
        "\n",
        "for i in range(10):\n",
        "    x = Variable(np.random.randn(10000))  # 많은 데이터\n",
        "    y = square(square(square(x))) # 복잡한 계산 수행\n",
        "\n",
        "# for문이 두 번째 반복될 때 x, y가 덮어 씌어져, 이전의 계산 그래프를 참고하지 않게 된다."
      ],
      "metadata": {
        "id": "53Ui3ZJmzLHJ"
      },
      "execution_count": null,
      "outputs": []
    },
    {
      "cell_type": "code",
      "source": [
        "!python step17.py"
      ],
      "metadata": {
        "id": "pcR2t8xqyv30"
      },
      "execution_count": null,
      "outputs": []
    },
    {
      "cell_type": "markdown",
      "source": [
        "## 18단계: 메모리 절약 모드\n",
        "- 역전파 시 사용하는 메모리를 줄이는 방법, 불필요한 미분 결과를 보관하지 않고 삭제\n",
        "- '역전파가 필요 없는 경우'모드 제작, 불필요한 계산을 생략한다.\n",
        "\n",
        "### 18.1 필요 없는 미분값 삭제\n",
        "- x0과 x1은 사용자가 제공하는 변수이기에 미분값이 필요하지만, y, t같은 중간 변수는 필요하지 않다. 이 미분값을 제거해주도록 한다."
      ],
      "metadata": {
        "id": "zCu5sPiHzoMw"
      }
    },
    {
      "cell_type": "code",
      "source": [
        "!python step18.py"
      ],
      "metadata": {
        "colab": {
          "base_uri": "https://localhost:8080/"
        },
        "id": "tL8Hf15o0NNY",
        "outputId": "6cc99c00-9a74-414c-e1cd-3ea20d63100c"
      },
      "execution_count": null,
      "outputs": [
        {
          "output_type": "stream",
          "name": "stdout",
          "text": [
            "1.0 1.0\n",
            "2.0 1.0\n"
          ]
        }
      ]
    },
    {
      "cell_type": "code",
      "source": [
        "# 추가 코드\n",
        "\n",
        "class Variable():\n",
        "\n",
        "    def backward(self, retain_grad = False): # retain_grad = False는 중간 변수 미분값을 모두 None으로 설정\n",
        "        if self.grad is None:\n",
        "            self.grad = np.ones_like(self.data) # self.data와 형상과\n",
        "            # 데이터 터입이 같은 ndarray 인스턴스 생성\n",
        "\n",
        "        funcs = []\n",
        "        seen_set = set() # 함수의 backward 메서드가 여러 번 불리는 것 방지\n",
        "\n",
        "        def add_func(f): # 함수 리스트 세대 순으로 정렬\n",
        "            if f not in seen_set:\n",
        "                funcs.append(f)\n",
        "                seen_set.add(f)\n",
        "                funcs.sort(key=lambda x: x.generation)\n",
        "\n",
        "        add_func(self.creator)\n",
        "        \n",
        "        while funcs:\n",
        "            f = funcs.pop() # 1. 함수를 가져온다.\n",
        "            gys = [output().grad for output in f.outputs] # 약한 참조를 적용하고 출력 변수(미분값)을 리스트에 담는다.\n",
        "            gxs = f.backward(*gys) # 역전파 호출 : 리스트 언팩\n",
        "            if not isinstance(gxs, tuple): # 튜플이 아닌 경우 튜플로 변경\n",
        "                gxs = (gxs, )\n",
        "            for x, gx in zip(f.inputs, gxs): # 모든 Variable 인스턴스 각각에 알맞은 미분값을 설정\n",
        "                if x.grad is None:\n",
        "                    x.grad = gx\n",
        "                else:\n",
        "                    x.grad = x.grad + gx # 미분값을 더해준다.\n",
        "\n",
        "                if x.creator is not None:\n",
        "                    add_func(x.creator)\n",
        "\n",
        "            if not retain_grad:\n",
        "                for y in f.outputs:\n",
        "                    y().grad = None # y는 약한 참조, 각 함수의 출력 변수의 미분값을 \n",
        "                    # 유지하지 않도록 설정"
      ],
      "metadata": {
        "id": "OwLREgB807cn"
      },
      "execution_count": null,
      "outputs": []
    },
    {
      "cell_type": "code",
      "source": [
        "!python step18.py\n",
        "# y, t의 미분 값이 삭제된 것을 확인하였다."
      ],
      "metadata": {
        "colab": {
          "base_uri": "https://localhost:8080/"
        },
        "id": "L7xporg61-_f",
        "outputId": "88dcb673-b9d7-4871-89dd-7d166cb2f6e0"
      },
      "execution_count": null,
      "outputs": [
        {
          "output_type": "stream",
          "name": "stdout",
          "text": [
            "None None\n",
            "2.0 1.0\n"
          ]
        }
      ]
    },
    {
      "cell_type": "markdown",
      "source": [
        "### 18.2 Function 클래스 복습\n",
        "- self.inputs는 순전파 때 결과값을 기억해준다. \n",
        "- 인스턴스 변수인 inputs를 참조하지 않았다면 참조 카운트가 0이 되어 메모리에서 삭제됐을 것이다."
      ],
      "metadata": {
        "id": "x1YjwTzo2GvS"
      }
    },
    {
      "cell_type": "code",
      "source": [
        "class Function:\n",
        "    def __call__(self, *inputs): # 임의 개수의 인수(가변 길이 인수)를 건네 함수를 호출할 수 있다.\n",
        "        xs = [x.data for x in inputs] # input을 리스트로\n",
        "        ys = self.forward(*xs) # 언팩\n",
        "        if not isinstance(ys, tuple): # 튜플이 아닌 경우 튜플로 변경\n",
        "            ys = (ys,)\n",
        "        outputs = [Variable(as_array(y)) for y in ys] # output을 리스트로\n",
        "\n",
        "        # 입력 변수와 같은 값으로 generation 설정\n",
        "        self.generation = max([x.generation for x in inputs])\n",
        "\n",
        "        for output in outputs:\n",
        "            output.set_creator(self)\n",
        "        self.inputs = inputs # 순전파 때 결과값 기억\n",
        "        self.outputs = [weakref.ref(output) for output in outputs] # 약한 참조\n",
        "\n",
        "        # 리스트의 원소가 하나라면 첫 번째 원소를 반환한다.\n",
        "        return outputs if len(outputs) > 1 else outputs[0]"
      ],
      "metadata": {
        "id": "JOUkd_gi2mnw"
      },
      "execution_count": null,
      "outputs": []
    },
    {
      "cell_type": "markdown",
      "source": [
        "### 18.3 config 클래스를 활용한 모드 전환\n",
        "- 역전파 활성화/비활성화 모드를 제작하도록한다."
      ],
      "metadata": {
        "id": "HykOlbsJ3I2C"
      }
    },
    {
      "cell_type": "code",
      "source": [
        "# 추가 코드\n",
        "\n",
        "class Config:\n",
        "    enable_backprop = True # 역전파 가능 여부, 'True' : 역전파 활성화 모드\n",
        "\n",
        "# 추가 코드 - 2\n",
        "\n",
        "class Function:\n",
        "    def __call__(self, *inputs): # 임의 개수의 인수(가변 길이 인수)를 건네 함수를 호출할 수 있다.\n",
        "        xs = [x.data for x in inputs] # input을 리스트로\n",
        "        ys = self.forward(*xs) # 언팩\n",
        "        if not isinstance(ys, tuple): # 튜플이 아닌 경우 튜플로 변경\n",
        "            ys = (ys,)\n",
        "        outputs = [Variable(as_array(y)) for y in ys] # output을 리스트로\n",
        "\n",
        "        if Config.enable_backprop:\n",
        "\n",
        "            # 입력 변수와 같은 값으로 generation 설정\n",
        "            # '역전파 비활성화 시' 세대 설정은 필요하지 않다. \n",
        "            self.generation = max([x.generation for x in inputs]) # 세대 설정\n",
        "\n",
        "            for output in outputs:\n",
        "                output.set_creator(self) # 연결 설정\n",
        "            self.inputs = inputs # 순전파 때 결과값 기억\n",
        "            self.outputs = [weakref.ref(output) for output in outputs] # 약한 참조\n",
        "\n",
        "            # 리스트의 원소가 하나라면 첫 번째 원소를 반환한다.\n",
        "            return outputs if len(outputs) > 1 else outputs[0]"
      ],
      "metadata": {
        "id": "OXeE9Ma63aai"
      },
      "execution_count": null,
      "outputs": []
    },
    {
      "cell_type": "markdown",
      "source": [
        "### 18.4 모드 전환\n"
      ],
      "metadata": {
        "id": "y3XiyZ0b5H48"
      }
    },
    {
      "cell_type": "code",
      "source": [
        "# 추가 코드 (테스트용)\n",
        "\n",
        "Config.enable_backprop = True\n",
        "x = Variable(np.ones((100, 100, 100)))\n",
        "y = square(square(square(x)))\n",
        "y.bacward()"
      ],
      "metadata": {
        "id": "jL9oPIDY5R96"
      },
      "execution_count": null,
      "outputs": []
    },
    {
      "cell_type": "code",
      "source": [
        "!python step18.py"
      ],
      "metadata": {
        "colab": {
          "base_uri": "https://localhost:8080/"
        },
        "id": "FSNdW9I55vex",
        "outputId": "b5f9a2e4-e083-4445-e4af-819a6c3ffda1"
      },
      "execution_count": null,
      "outputs": [
        {
          "output_type": "stream",
          "name": "stdout",
          "text": [
            "None None\n",
            "2.0 1.0\n"
          ]
        }
      ]
    },
    {
      "cell_type": "markdown",
      "source": [
        "### 18.5 with 문을 활용한 모드 전환\n",
        "- with는 후처리를 자동으로 수행할 때 사용하는 구문이다.\n",
        "- "
      ],
      "metadata": {
        "id": "iNeIA5II56uD"
      }
    },
    {
      "cell_type": "code",
      "source": [
        "# 추가 코드\n",
        "\n",
        "with using_config('enable_backprop', False): # '역전파 비활성 모드'\n",
        "    x = Variable(np.array(2.0))\n",
        "    y = square(x)\n",
        "\n",
        "# 추가 코드 - 2\n",
        "import contextlib\n",
        "\n",
        "@contextlib.contextmanager\n",
        "def using_config(name, value): # name : 사용할 Config 속성의 이름\n",
        "    old_value = getattr(Config, name) # name을 getattr 함수에 넘겨 Config 클래스에서 꺼내온다.\n",
        "    setattr(Config, name, value)\n",
        "    try:\n",
        "        yield\n",
        "    finally:\n",
        "        setattr(Config, name, old_value)\n",
        "\n",
        "# 추가 코드 - 3\n",
        "def no_grad(): # 편의 함수\n",
        "    return using_config('enable_backprop', False)\n",
        "\n",
        "with no_grad():\n",
        "    x = Variable(np.array(2.0))\n",
        "    y = square(x)"
      ],
      "metadata": {
        "id": "JRboneH_6RGN"
      },
      "execution_count": null,
      "outputs": []
    },
    {
      "cell_type": "code",
      "source": [
        "!python step18.py"
      ],
      "metadata": {
        "colab": {
          "base_uri": "https://localhost:8080/"
        },
        "id": "-1UGP4Vt80b7",
        "outputId": "f20ee40f-6037-4929-a48b-bfa048f3381b"
      },
      "execution_count": null,
      "outputs": [
        {
          "output_type": "stream",
          "name": "stdout",
          "text": [
            "None None\n",
            "2.0 1.0\n"
          ]
        }
      ]
    },
    {
      "cell_type": "markdown",
      "source": [
        "## 19단계: 변수 사용성 개선\n",
        "- DeZero를 더 쉽게 사용하기 위해 Variable 클래스를 조정하도록 한다.\n",
        "\n",
        "### 19.1 변수 이름 지정\n",
        "- 변수들은 서로 구분할 필요가 있다. Variable 클래스에 name이라는 인스턴스 변수 추가"
      ],
      "metadata": {
        "id": "qSiAb-29hUzQ"
      }
    },
    {
      "cell_type": "code",
      "source": [
        "# 추가 코드\n",
        "\n",
        "class Variable():\n",
        "    def __init__(self, data, name = None): # 인스턴스 변수\n",
        "        if data is not None:\n",
        "            if not isinstance(data, np.ndarray):\n",
        "                raise TypeError('{}은(는) 지원하지 않습니다.'.format(type(data)))\n",
        "        self.data = data\n",
        "        self.name = name\n",
        "        self.grad = None # 미분값 저장\n",
        "        self.creator = None # 인스턴스 변수 추가\n",
        "        self.generation = 0 # 세대 수를 기록하는 변수"
      ],
      "metadata": {
        "id": "L48iZF9th6bs"
      },
      "execution_count": null,
      "outputs": []
    },
    {
      "cell_type": "markdown",
      "source": [
        "### 19,2 ndarray 인스턴스 변수\n",
        "- Variable 클래스는 데이터를 담는 상자 역할이다. 하지만 더 중요한 것은 그 안의 데이터이다. Variable이 데이터인 것처럼 보이게 하는 장치를 추가한다."
      ],
      "metadata": {
        "id": "bRplYWYeiq0i"
      }
    },
    {
      "cell_type": "code",
      "source": [
        "# 추가 코드\n",
        "class Variable:\n",
        "\n",
        "    @property # shape 메서드를 인스턴스 변수처럼 사용하게한다.\n",
        "    def shape(self):\n",
        "        return self.data.shape # 인스턴스 변수로 데이터의 형상을 얻을 수 있다.\n",
        "\n",
        "    @property\n",
        "    def ndim(self): # 차원 수\n",
        "        return self.data.ndim \n",
        "\n",
        "    @property \n",
        "    def size(self): # 원소 수 \n",
        "        return self.data.size\n",
        "\n",
        "    @property \n",
        "    def dtype(self): # 데이터 타입\n",
        "        return self.data.dtype"
      ],
      "metadata": {
        "id": "nlnXBBmPi6oS"
      },
      "execution_count": null,
      "outputs": []
    },
    {
      "cell_type": "markdown",
      "source": [
        "### 19.3 len 함수와 print 함수\n",
        "- len을 사용하여 객체 수를 알려주는 기능을 추가"
      ],
      "metadata": {
        "id": "aZO3hIhvkKgG"
      }
    },
    {
      "cell_type": "code",
      "source": [
        "# 추가 코드\n",
        "class Variable:\n",
        "\n",
        "    def __len__(self): # 객체 수 알림\n",
        "        return len(self.data) \n",
        "\n",
        "    def __repr__(self): # ndarray에 담긴 내용 출력\n",
        "        if self.data is None:\n",
        "            return 'variable(None)'\n",
        "        p = str(self.data).replace('\\n', '\\n' + ' ' * 9) # 줄을 바꾸고 새로운 줄 앞에 공백 9개를 삽입\n",
        "        return 'variable(' + p + ')'"
      ],
      "metadata": {
        "id": "wReEMFdXkZ-9"
      },
      "execution_count": null,
      "outputs": []
    },
    {
      "cell_type": "markdown",
      "source": [
        "## 20단계: 연산자 오버로드(1)\n",
        "- Variable 인스턴스를 ndarray 인스턴트처럼 보이게 만드는 것이 목표이다.\n",
        "- +, * 연산자를 지원하도록 Variable을 확장할 것이다.\n",
        "\n",
        "### 20.1 Mul 클래스 구현\n",
        "- '곱셈'을 할 수 있게 클래스를 구현한다.\n",
        "- 좀 더 편하게 연산자를 사용할 수 있도록 연산자 오버로드를 이용하자."
      ],
      "metadata": {
        "id": "qBYwT8g4lrCJ"
      }
    },
    {
      "cell_type": "code",
      "source": [
        "# 추가 코드\n",
        "class Mul(Function):\n",
        "    def forward(self, x0, x1):\n",
        "        y = x0 * x1\n",
        "        return y\n",
        "\n",
        "    def backward(self, gy):\n",
        "        x0, x1 = self.inputs[0].data, self.inputs[1].data\n",
        "        return gy * x0, gy * x1\n",
        "\n",
        "def mul(x0, x1):\n",
        "    return Mul()(x0, x1)"
      ],
      "metadata": {
        "id": "deMIUHtkmsnC"
      },
      "execution_count": null,
      "outputs": []
    },
    {
      "cell_type": "code",
      "source": [
        "!python step20.py"
      ],
      "metadata": {
        "colab": {
          "base_uri": "https://localhost:8080/"
        },
        "id": "725x1wZAnk5B",
        "outputId": "bf473274-5567-499b-bea4-ab85bf3bd5c2"
      },
      "execution_count": null,
      "outputs": [
        {
          "output_type": "stream",
          "name": "stdout",
          "text": [
            "variable(7.0)\n",
            "3.0\n",
            "2.0\n"
          ]
        }
      ]
    },
    {
      "cell_type": "markdown",
      "source": [
        "### 20.2 연산자 오버로드\n"
      ],
      "metadata": {
        "id": "ubKs3hvgn7EW"
      }
    },
    {
      "cell_type": "code",
      "source": [
        "# 추가 코드\n",
        "\n",
        "Variable.__mul__ = mul # 함수 자체에 할당시킴\n",
        "Variable.__add__ = add"
      ],
      "metadata": {
        "id": "YNz31l9oodUZ"
      },
      "execution_count": null,
      "outputs": []
    },
    {
      "cell_type": "code",
      "source": [
        "!python step20.py"
      ],
      "metadata": {
        "colab": {
          "base_uri": "https://localhost:8080/"
        },
        "id": "DP0lMSv7ozJ0",
        "outputId": "073f2726-c9c8-4cf0-98b7-46d33d7ce6e4"
      },
      "execution_count": null,
      "outputs": [
        {
          "output_type": "stream",
          "name": "stdout",
          "text": [
            "variable(7.0)\n",
            "3.0\n",
            "2.0\n"
          ]
        }
      ]
    },
    {
      "cell_type": "markdown",
      "source": [
        "## 21단계: 연산자 오버로드(2)\n",
        "- 아직 인스턴스와 np.array(2.0)처럼 ndarray 인스턴스는 함께 사용할 수 없다.\n",
        "- Variable 인스턴스와 ndarray 인스턴스, 심지어 int, float 등도 함께 사용할 수 있게 한다.\n",
        "\n",
        "### 21.1 ndarray와 함께 사용하기\n",
        "- Variable과 ndarray 인스턴스를 함께 사용하기하려면 ndarray 인스턴스를 자동으로 Variable인스턴스로 변환시키면된다."
      ],
      "metadata": {
        "id": "b4hf-OYzo7L1"
      }
    },
    {
      "cell_type": "code",
      "source": [
        "# 추가 코드\n",
        "def as_variable(obj):\n",
        "    if isinstance(obj, Variable): # obj가 Variable 인스턴스 인지 확인\n",
        "        return obj\n",
        "    return Variable(obj) # 만약 Variable 인스턴스가 아니라면 변환\n",
        "\n",
        "# 추가 코드 - 2\n",
        "\n",
        "class Function:\n",
        "    def __cal__(self, *inputs):\n",
        "        inputs = [as_variable(x) for x in inputs] # inputs에 담긴 원소를 Variable로 변환"
      ],
      "metadata": {
        "id": "zMtrZktfqpRp"
      },
      "execution_count": null,
      "outputs": []
    },
    {
      "cell_type": "code",
      "source": [
        "!python step21.py"
      ],
      "metadata": {
        "colab": {
          "base_uri": "https://localhost:8080/"
        },
        "id": "fk2cKk1NrYIC",
        "outputId": "e421ab4e-8829-4ce9-b612-fed08dd10385"
      },
      "execution_count": null,
      "outputs": [
        {
          "output_type": "stream",
          "name": "stdout",
          "text": [
            "variable(5.0)\n"
          ]
        }
      ]
    },
    {
      "cell_type": "markdown",
      "source": [
        "### 21.2 float, int와 함께 사용하기"
      ],
      "metadata": {
        "id": "uoFOs7BArzmi"
      }
    },
    {
      "cell_type": "code",
      "source": [
        "# 추가 코드\n",
        "def add(x0, x1):\n",
        "    x1 = as_array(x1) # ndarray 인스턴스로 변환\n",
        "    return Add(x0, x1)"
      ],
      "metadata": {
        "id": "rIJu5QJHr4lh"
      },
      "execution_count": null,
      "outputs": []
    },
    {
      "cell_type": "code",
      "source": [
        "!python step21.py"
      ],
      "metadata": {
        "colab": {
          "base_uri": "https://localhost:8080/"
        },
        "id": "pDhMvxTtsPLg",
        "outputId": "fe7277d3-9ea0-4987-80a1-686694e23886"
      },
      "execution_count": null,
      "outputs": [
        {
          "output_type": "stream",
          "name": "stdout",
          "text": [
            "variable(5.0)\n"
          ]
        }
      ]
    },
    {
      "cell_type": "markdown",
      "source": [
        "### 21.3 문제점 1: 첫 번째 인수가 float, int인 경우\n",
        "- *과 같은 이랑 연산자의 경우 피연산자(항)의 위치에 따라 호출되는 특수 메서드가 다르다. 곱셈의 경우 피연산자가 좌항이면 __mul__, 우항이면 __rmul__메서드가 호출\n",
        "- 이런 문제는 __rmul__ 메서드를 구현하면 해결"
      ],
      "metadata": {
        "id": "UJ99OyN1sS_y"
      }
    },
    {
      "cell_type": "code",
      "source": [
        "# 추가 코드\n",
        "\n",
        "Variable.__add__ = add\n",
        "Variable.__radd__ = add\n",
        "Variable.__mul__ = mul\n",
        "Variable.__rmul__ = mul"
      ],
      "metadata": {
        "id": "7RKaXdfyszPu"
      },
      "execution_count": null,
      "outputs": []
    },
    {
      "cell_type": "code",
      "source": [
        "!python step21.py"
      ],
      "metadata": {
        "colab": {
          "base_uri": "https://localhost:8080/"
        },
        "id": "AZfw5cJ-s8eQ",
        "outputId": "8fddac98-0d2b-440a-ca93-c00b6ac6561f"
      },
      "execution_count": null,
      "outputs": [
        {
          "output_type": "stream",
          "name": "stdout",
          "text": [
            "variable(7.0)\n"
          ]
        }
      ]
    },
    {
      "cell_type": "markdown",
      "source": [
        "### 21.4 문제점 2: 좌항이 ndarray 인스턴스인 경우\n",
        "- '연산자 우선순위'를 지정하여 해결 가능"
      ],
      "metadata": {
        "id": "fmsIIjA7tSSd"
      }
    },
    {
      "cell_type": "code",
      "source": [
        "# 추가 코드\n",
        "class Variable:\n",
        "    __array_priority__ = 200 # 연산자 우선순위 지정\n"
      ],
      "metadata": {
        "id": "Cqu4j3uatepe"
      },
      "execution_count": null,
      "outputs": []
    },
    {
      "cell_type": "code",
      "source": [
        "!python step21.py"
      ],
      "metadata": {
        "colab": {
          "base_uri": "https://localhost:8080/"
        },
        "id": "-diSvpZttz62",
        "outputId": "96e3390c-ad1c-41b2-e922-ce4f69577062"
      },
      "execution_count": null,
      "outputs": [
        {
          "output_type": "stream",
          "name": "stdout",
          "text": [
            "variable(7.0)\n"
          ]
        }
      ]
    },
    {
      "cell_type": "markdown",
      "source": [
        "## 22단계: 연산자 오버로드(3)\n",
        "- 더 많은 연산자들을 추가 지원하도록 한다.\n",
        "- 작업은 아래 순서에 따라 진행한다.\n",
        "- 1. Function 클래스를 상속하여 원하는 함수 클래스를 구현\n",
        "- 2. 파이썬 함수로 사용할 수 있도록 한다.\n",
        "- 3. Variable 클래스의 연산자를 오버로드한다."
      ],
      "metadata": {
        "id": "MA6JjlNFt1SL"
      }
    },
    {
      "cell_type": "markdown",
      "source": [
        "### 22.1 음수(부호 변환)"
      ],
      "metadata": {
        "id": "mmSHBvJovQes"
      }
    },
    {
      "cell_type": "code",
      "source": [
        "# 추가 코드\n",
        "class Neg(Function):\n",
        "    def forward(self, x):\n",
        "        return -x\n",
        "\n",
        "    def backward(self, gy):\n",
        "        return -gy\n",
        "\n",
        "def neg(x):\n",
        "    return Neg()(x)\n",
        "\n",
        "Variable.__neg__ = neg"
      ],
      "metadata": {
        "id": "xwF5dtxSvYMr"
      },
      "execution_count": null,
      "outputs": []
    },
    {
      "cell_type": "code",
      "source": [
        "!python step22.py"
      ],
      "metadata": {
        "colab": {
          "base_uri": "https://localhost:8080/"
        },
        "id": "dSYSjwv4v3c4",
        "outputId": "56f0f4bb-1724-4141-cd84-64698a649c53"
      },
      "execution_count": null,
      "outputs": [
        {
          "output_type": "stream",
          "name": "stdout",
          "text": [
            "variable(-2.0)\n"
          ]
        }
      ]
    },
    {
      "cell_type": "markdown",
      "source": [
        "### 22.2 뺄셈"
      ],
      "metadata": {
        "id": "OI2lgp_Rv6Hn"
      }
    },
    {
      "cell_type": "code",
      "source": [
        "# 추가 코드\n",
        "class Sub(Function):\n",
        "    def forward(self, x0, x1):\n",
        "        y = x0 - x1\n",
        "        return y\n",
        "\n",
        "    def backward(self, gy):\n",
        "        return gy, -gy\n",
        "\n",
        "def sub(x0, x1):\n",
        "    x1 = as_array(x1)\n",
        "    return Sub()(x0, x1)\n",
        "\n",
        "def rsub(x0, x1):\n",
        "    x1 = as_array(x1)\n",
        "    return Sub()(x1, x0) # x0와 x1의 순서를 바꿔준다.\n",
        "\n",
        "Variable.__sub__ = sub\n",
        "Variable.__rsub__ = rsub"
      ],
      "metadata": {
        "id": "itrkzo-_wOWp"
      },
      "execution_count": null,
      "outputs": []
    },
    {
      "cell_type": "code",
      "source": [
        "!python step22.py"
      ],
      "metadata": {
        "colab": {
          "base_uri": "https://localhost:8080/"
        },
        "id": "Zryzy1iGw89j",
        "outputId": "81fb3c3c-5d85-4604-c43b-6083649aea52"
      },
      "execution_count": null,
      "outputs": [
        {
          "output_type": "stream",
          "name": "stdout",
          "text": [
            "variable(0.0)\n",
            "variable(1.0)\n"
          ]
        }
      ]
    },
    {
      "cell_type": "markdown",
      "source": [
        "### 22.3 나눗셈"
      ],
      "metadata": {
        "id": "0yd1G1y7xElR"
      }
    },
    {
      "cell_type": "code",
      "source": [
        "# 추가 코드\n",
        "\n",
        "class Div(Function):\n",
        "    def forward(self, x0, x1):\n",
        "        y = x0 / x1\n",
        "        return y\n",
        "\n",
        "    def backward(self, gy):\n",
        "        x0, x1 = self.inputs[0].data, self.inputs[1].data\n",
        "        gx0 = gy / x1\n",
        "        gx1 = gy * (-x0 / x1 ** 2)\n",
        "        return gx0, gx1\n",
        "\n",
        "    def div(x0, x1):\n",
        "        x1 = as_array(x1)\n",
        "        return Div()(x0, x1)\n",
        "\n",
        "    def rdiv(x0, x1):\n",
        "        x1 = as_array(x1)\n",
        "        return div()(x1, x0) # x0과 x1의 순서를 바꾼다.\n",
        "\n",
        "Variable.__truediv__ = div\n",
        "Variable.__rtruediv__ = rdiv"
      ],
      "metadata": {
        "id": "MqnhTeKJxJu0"
      },
      "execution_count": null,
      "outputs": []
    },
    {
      "cell_type": "code",
      "source": [
        "!python step22.py"
      ],
      "metadata": {
        "colab": {
          "base_uri": "https://localhost:8080/"
        },
        "id": "IBmB-p0X0JRP",
        "outputId": "e893bce5-136d-4080-c67b-4fdde818c9ff"
      },
      "execution_count": null,
      "outputs": [
        {
          "output_type": "stream",
          "name": "stdout",
          "text": [
            "variable(1.5)\n"
          ]
        }
      ]
    },
    {
      "cell_type": "markdown",
      "source": [
        "### 22.4 거듭제곱"
      ],
      "metadata": {
        "id": "5Eil3DOj1VCi"
      }
    },
    {
      "cell_type": "code",
      "source": [
        "# 추가 코드\n",
        "\n",
        "class Pow(Function):\n",
        "    def __init__(self, c):\n",
        "        self.c = c\n",
        "\n",
        "    def forward(self, x):\n",
        "        y = x ** self.c\n",
        "        return y\n",
        "\n",
        "    def backward(self, gy):\n",
        "        x = self.inputs[0].data\n",
        "        c = self.c\n",
        "        gx = c * x ** (c-1) * gy\n",
        "        return gx\n",
        "\n",
        "def pow(x, c):\n",
        "    return Pow(c)(x)\n",
        "\n",
        "Variable.__pow__ = pow"
      ],
      "metadata": {
        "id": "mqYlWjTR1bLH"
      },
      "execution_count": null,
      "outputs": []
    },
    {
      "cell_type": "code",
      "source": [
        "!python step22.py"
      ],
      "metadata": {
        "colab": {
          "base_uri": "https://localhost:8080/"
        },
        "id": "IhyyNHnR1-MJ",
        "outputId": "c6d89d6e-5b7b-49be-b0ea-b282f9551f2f"
      },
      "execution_count": null,
      "outputs": [
        {
          "output_type": "stream",
          "name": "stdout",
          "text": [
            "variable(8.0)\n"
          ]
        }
      ]
    },
    {
      "cell_type": "markdown",
      "source": [
        "## 23단계: 패키지로 정리\n",
        "- 지금까지 step을 패키지로 정리한다.\n",
        "- 모듈 : 파이썬 파일, import하여 사용하는 것으 가정하고 만들어진 파이썬 파일\n",
        "- 패키지 : 여러 모듈을 묶은 것, 패키지를 만들기 위해서는 디렉터리를 만들고 그 안에 모듈을 추가\n",
        "- 라이브러리 : 여러 패키지를 묶은 것, 하나 이상의 디렉터리로 구성괸다.\n",
        "\n",
        "### 23.1 파일 구성\n",
        "- dezero라는 디렉터리에 모듈을 추가한다. 그럼 dezero라는 패키지가 만들어지고 이 것을 프레임워크라고 한다.\n",
        "\n",
        "### 23.2 코어 클래스 옮기기"
      ],
      "metadata": {
        "id": "XdTaijwR2B66"
      }
    },
    {
      "cell_type": "code",
      "source": [
        "cd '/content/drive/MyDrive/Book/deeplearng_basic_3/'"
      ],
      "metadata": {
        "colab": {
          "base_uri": "https://localhost:8080/"
        },
        "id": "CVEKv9Tc5tq3",
        "outputId": "4fd1f9a6-edc3-4738-bfc4-256c1b97edfc"
      },
      "execution_count": null,
      "outputs": [
        {
          "output_type": "stream",
          "name": "stdout",
          "text": [
            "/content/drive/MyDrive/Book/deeplearng_basic_3\n"
          ]
        }
      ]
    },
    {
      "cell_type": "code",
      "source": [
        "import numpy as np\n",
        "from dezero.core_simple import Variable\n",
        "\n",
        "x = Variable(np.array(1.0))\n",
        "print(x)"
      ],
      "metadata": {
        "colab": {
          "base_uri": "https://localhost:8080/"
        },
        "id": "BqNiAPJT50Xf",
        "outputId": "8bd76b30-97c3-44b8-81b1-d66e2c95c0b5"
      },
      "execution_count": null,
      "outputs": [
        {
          "output_type": "stream",
          "name": "stdout",
          "text": [
            "variable(1.0)\n"
          ]
        }
      ]
    },
    {
      "cell_type": "markdown",
      "source": [
        "### 23.3 연산자 오버로드\n",
        "- setop_variable() 함수 호출을 위하여 __init__.py를 만든다.\n",
        "- __init__.py는 모듈을 import할 때 가장 먼저 실행되는 파일이다."
      ],
      "metadata": {
        "id": "L4yTiQNA6MqQ"
      }
    },
    {
      "cell_type": "code",
      "source": [
        "# 추가 코드\n",
        "\n",
        "def setup_variable():\n",
        "    Variable.__add__ = add\n",
        "    Variable.__radd__ = add\n",
        "    Variable.__mul__ = mul\n",
        "    Variable.__rmul__ = mul\n",
        "    Variable.__neg__ = neg\n",
        "    Variable.__sub__ = sub\n",
        "    Variable.__rsub__ = rsub\n",
        "    Variable.__truediv__ = div\n",
        "    Variable.__rtruediv__ = rdiv\n",
        "    Variable.__pow__ = pow\n",
        "\n",
        "# __init__.py code\n",
        "\n",
        "if is_simple_core:\n",
        "    from dezero.core_simple import Variable\n",
        "    from dezero.core_simple import Function\n",
        "    from dezero.core_simple import using_config\n",
        "    from dezero.core_simple import no_grad\n",
        "    from dezero.core_simple import as_array\n",
        "    from dezero.core_simple import as_variable\n",
        "    from dezero.core_simple import setup_variable\n",
        "\n",
        "    setup_variable() # 함수를 import하여 호출\n",
        "    # dezero 패키지에서 Variable 클래스를 곧바로 import 할 수 있다"
      ],
      "metadata": {
        "id": "Yx0bGeGX6RTE"
      },
      "execution_count": null,
      "outputs": []
    },
    {
      "cell_type": "code",
      "source": [
        "cd '/content/drive/MyDrive/Book/deeplearng_basic_3'"
      ],
      "metadata": {
        "colab": {
          "base_uri": "https://localhost:8080/"
        },
        "id": "Wq4uh56I_l_D",
        "outputId": "0cae038a-a00c-4e0b-b5d3-b565ee67f0b4"
      },
      "execution_count": null,
      "outputs": [
        {
          "output_type": "stream",
          "name": "stdout",
          "text": [
            "/content/drive/MyDrive/Book/deeplearng_basic_3\n"
          ]
        }
      ]
    },
    {
      "cell_type": "code",
      "source": [
        "# from dezero.core_simple import Variable\n",
        "from dezero import Variable"
      ],
      "metadata": {
        "id": "WDoVjbei_0WV"
      },
      "execution_count": null,
      "outputs": []
    },
    {
      "cell_type": "markdown",
      "source": [
        "### 23.4 실제 __init__.py 파일\n",
        "- __init__.py에서 is_simple_core 플래그로 임포트할 대상을 선택한다. True면 core_simple.py에서 False면 core.py에서 임포트가 이루어진다.\n",
        "\n",
        "### 23.5 dezero 임포트"
      ],
      "metadata": {
        "id": "dmL2ZxDH9O8d"
      }
    },
    {
      "cell_type": "code",
      "source": [
        "# 추가 코드\n",
        "if '__file__' is globals(): # __file__이라는 전역 변수가 정의되어 있는지 확인\n",
        "    import os, sys\n",
        "    sys.path.append(os.path.join(os.path.dirname(__file__), '..'))\n",
        "\n",
        "import numpy as np\n",
        "from dezero import Variable\n",
        "\n",
        "x = Variable(np.arrau(1.0))\n",
        "y = (x + 3) ** 2\n",
        "y.backward()\n",
        "\n",
        "print(y)\n",
        "print(x.grad)"
      ],
      "metadata": {
        "id": "qyhaYE2Q-BM1"
      },
      "execution_count": null,
      "outputs": []
    },
    {
      "cell_type": "code",
      "source": [
        "cd '/content/drive/MyDrive/Book/deeplearng_basic_3/'"
      ],
      "metadata": {
        "colab": {
          "base_uri": "https://localhost:8080/"
        },
        "id": "-kOwWv6t_YGu",
        "outputId": "97edcf13-4e19-4b78-fa65-71218acf7938"
      },
      "execution_count": null,
      "outputs": [
        {
          "output_type": "stream",
          "name": "stdout",
          "text": [
            "/content/drive/MyDrive/Book/deeplearng_basic_3\n"
          ]
        }
      ]
    },
    {
      "cell_type": "code",
      "source": [
        "!python steps/step23.py"
      ],
      "metadata": {
        "colab": {
          "base_uri": "https://localhost:8080/"
        },
        "id": "YlHLq2fS_dbA",
        "outputId": "c89ec02a-7466-46f7-fbbb-670fe75567f2"
      },
      "execution_count": null,
      "outputs": [
        {
          "output_type": "stream",
          "name": "stdout",
          "text": [
            "variable(16.0)\n",
            "8.0\n"
          ]
        }
      ]
    },
    {
      "cell_type": "markdown",
      "source": [
        "## 24단계: 복잡한 함수의 미분\n",
        "- 이 단계에서는 다루는 함수들은 최적화 문제에서 자주 사용되는 테스트 함수이다. 최적화 문제의 테스트 함수란 다양한 최적화 기법이 '얼마나 좋은가'를 평가하는데 사용되는 함수를 뜻한다.\n",
        "\n",
        "### 24.1 Sphere 함수\n",
        "- Sphere 함수는 두 개의 입력 변수를 제곱하여 더하는 함수이다."
      ],
      "metadata": {
        "id": "vbZeyjYvgW2a"
      }
    },
    {
      "cell_type": "code",
      "source": [
        "# 추가 코드\n",
        "import numpy as np\n",
        "from dezero import Variable\n",
        "\n",
        "def sphere(x, y):\n",
        "    z = x ** 2 + y ** 2\n",
        "    return z\n",
        "\n",
        "x = Variable(np.array(1.0))\n",
        "y = Variable(np.array(1.0))\n",
        "z = sphere(x, y)  # sphere(x, y) / matyas(x, y)\n",
        "z.backward()\n",
        "print(x.grad, y.grad)"
      ],
      "metadata": {
        "id": "Z2RiUlVIhJGq"
      },
      "execution_count": null,
      "outputs": []
    },
    {
      "cell_type": "code",
      "source": [
        "!python step24.py"
      ],
      "metadata": {
        "colab": {
          "base_uri": "https://localhost:8080/"
        },
        "id": "kluflZagkbs2",
        "outputId": "afa6f399-d8ff-45f0-885b-769cc7e2f2f8"
      },
      "execution_count": null,
      "outputs": [
        {
          "output_type": "stream",
          "name": "stdout",
          "text": [
            "/content/drive/MyDrive/Book/deeplearng_basic_3/step24.py:3: SyntaxWarning: \"is\" with a literal. Did you mean \"==\"?\n",
            "  if '__file__' is globals():\n",
            "2.0 2.0\n"
          ]
        }
      ]
    },
    {
      "cell_type": "markdown",
      "source": [
        "### 24.2 matyes 함수"
      ],
      "metadata": {
        "id": "HBdQf_yjiRGQ"
      }
    },
    {
      "cell_type": "code",
      "source": [
        "# 추가 코드\n",
        "def matyas(x, y):\n",
        "    z = 0.26 * (x ** 2 + y ** 2) - 0.48 * x * y\n",
        "    return z"
      ],
      "metadata": {
        "id": "IQkzT0hXifT6"
      },
      "execution_count": null,
      "outputs": []
    },
    {
      "cell_type": "code",
      "source": [
        "!python step24.py"
      ],
      "metadata": {
        "colab": {
          "base_uri": "https://localhost:8080/"
        },
        "id": "8bGOzd0shi3k",
        "outputId": "f0821a5f-4edb-4e57-f547-d59393f0f501"
      },
      "execution_count": null,
      "outputs": [
        {
          "output_type": "stream",
          "name": "stdout",
          "text": [
            "/content/drive/MyDrive/Book/deeplearng_basic_3/step24.py:3: SyntaxWarning: \"is\" with a literal. Did you mean \"==\"?\n",
            "  if '__file__' is globals():\n",
            "3.52 3.0\n"
          ]
        }
      ]
    },
    {
      "cell_type": "markdown",
      "source": [
        "### 24.3 Goldstein-Price 함수"
      ],
      "metadata": {
        "id": "OLyHMzURjihP"
      }
    },
    {
      "cell_type": "code",
      "source": [
        "# 추가 코드\n",
        "def goldstein(x, y):\n",
        "     z = (1 + (x + y + 1)**2 * (19 - 14*x + 3*x**2 - 14*y + 6*x*y + 3*y**2)) * \\\n",
        "        (30 + (2*x - 3*y)**2 * (18 - 32*x + 12*x**2 + 48*y - 36*x*y + 27*y**2))\n",
        "    return z "
      ],
      "metadata": {
        "id": "DdZ7X92yjtNA"
      },
      "execution_count": null,
      "outputs": []
    },
    {
      "cell_type": "code",
      "source": [
        "!python steps/step24.py"
      ],
      "metadata": {
        "colab": {
          "base_uri": "https://localhost:8080/"
        },
        "id": "RFCo9wRsj7ek",
        "outputId": "7429e7a1-1a3a-4c02-fd7c-2c618d17c8f2"
      },
      "execution_count": null,
      "outputs": [
        {
          "output_type": "stream",
          "name": "stdout",
          "text": [
            "-84799.0 6772.0\n"
          ]
        }
      ]
    },
    {
      "cell_type": "markdown",
      "source": [
        "- 제2고지에서는 복잡한 계산까지 가능하게되었다. 또한 연산자를 오버로드 한 덕에 보통의 파이썬 프로그래밍처럼 코드를 작성할 수 있다."
      ],
      "metadata": {
        "id": "Om06PXMVljR1"
      }
    }
  ]
}